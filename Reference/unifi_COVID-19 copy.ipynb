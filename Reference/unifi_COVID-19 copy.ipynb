{
 "metadata": {
  "language_info": {
   "codemirror_mode": {
    "name": "ipython",
    "version": 3
   },
   "file_extension": ".py",
   "mimetype": "text/x-python",
   "name": "python",
   "nbconvert_exporter": "python",
   "pygments_lexer": "ipython3",
   "version": 3
  },
  "orig_nbformat": 2,
  "kernelspec": {
   "name": "python_defaultSpec_1596726913344",
   "display_name": "Python 3.8.0 64-bit"
  }
 },
 "nbformat": 4,
 "nbformat_minor": 2,
 "cells": [
  {
   "cell_type": "code",
   "execution_count": 1,
   "metadata": {},
   "outputs": [],
   "source": [
    "import pandas as pd \n",
    "import numpy as np \n",
    "import plotly.offline as pyo \n",
    "import plotly.graph_objs as go\n",
    "from plotly.subplots import make_subplots\n"
   ]
  },
  {
   "cell_type": "code",
   "execution_count": 3,
   "metadata": {},
   "outputs": [],
   "source": [
    "df1 = pd.read_csv(\"/Users/Udana/Desktop/COVID_data_mini-projects/unifi-project/Characteristics.csv\", skiprows=2)\n",
    "df2 = pd.read_csv(\"/Users/Udana/Desktop/COVID_data_mini-projects/unifi-project/Medical_Conditions.csv\", skiprows=2)\n",
    "df3 = pd.read_csv(\"/Users/Udana/Desktop/COVID_data_mini-projects/unifi-project/Weekly_Data_Counts.csv\", skiprows=2)\n",
    "df4 = pd.read_csv(\"/Users/Udana/Desktop/COVID_data_mini-projects/unifi-project/Weekly_Data_Percent.csv\", skiprows=2)\n"
   ]
  },
  {
   "cell_type": "code",
   "execution_count": 4,
   "metadata": {},
   "outputs": [
    {
     "output_type": "execute_result",
     "data": {
      "text/plain": "(1913, 6)"
     },
     "metadata": {},
     "execution_count": 4
    }
   ],
   "source": [
    "df1.shape"
   ]
  },
  {
   "cell_type": "code",
   "execution_count": 5,
   "metadata": {},
   "outputs": [
    {
     "output_type": "execute_result",
     "data": {
      "text/plain": "  Primary Strata Primary Strata Name Secondary Strata  \\\n0            Age            18-49 yr              Sex   \n1            Age            18-49 yr              Sex   \n2            Age            18-49 yr   Race/Ethnicity   \n3            Age            18-49 yr   Race/Ethnicity   \n4            Age            18-49 yr   Race/Ethnicity   \n5            Age            18-49 yr   Race/Ethnicity   \n6            Age            18-49 yr   Race/Ethnicity   \n7            Age            18-49 yr   Race/Ethnicity   \n8            Age            18-49 yr       BIPAP/CPAP   \n9            Age            18-49 yr       BIPAP/CPAP   \n\n           Secondary Strata Name   Count  Percent  \n0                           Male  4169.0     51.3  \n1                         Female  3952.0     48.7  \n2                          White  1118.0     16.6  \n3                          Black  1954.0     28.9  \n4                Hispanic/Latino  2682.0     39.7  \n5         Asian/Pacific Islander   355.0      5.3  \n6  American Indian/Alaska Native   167.0      2.5  \n7                          Other  1001.0     14.8  \n8                     Yes          140.0      6.9  \n9                     No          1895.0     93.1  ",
      "text/html": "<div>\n<style scoped>\n    .dataframe tbody tr th:only-of-type {\n        vertical-align: middle;\n    }\n\n    .dataframe tbody tr th {\n        vertical-align: top;\n    }\n\n    .dataframe thead th {\n        text-align: right;\n    }\n</style>\n<table border=\"1\" class=\"dataframe\">\n  <thead>\n    <tr style=\"text-align: right;\">\n      <th></th>\n      <th>Primary Strata</th>\n      <th>Primary Strata Name</th>\n      <th>Secondary Strata</th>\n      <th>Secondary Strata Name</th>\n      <th>Count</th>\n      <th>Percent</th>\n    </tr>\n  </thead>\n  <tbody>\n    <tr>\n      <th>0</th>\n      <td>Age</td>\n      <td>18-49 yr</td>\n      <td>Sex</td>\n      <td>Male</td>\n      <td>4169.0</td>\n      <td>51.3</td>\n    </tr>\n    <tr>\n      <th>1</th>\n      <td>Age</td>\n      <td>18-49 yr</td>\n      <td>Sex</td>\n      <td>Female</td>\n      <td>3952.0</td>\n      <td>48.7</td>\n    </tr>\n    <tr>\n      <th>2</th>\n      <td>Age</td>\n      <td>18-49 yr</td>\n      <td>Race/Ethnicity</td>\n      <td>White</td>\n      <td>1118.0</td>\n      <td>16.6</td>\n    </tr>\n    <tr>\n      <th>3</th>\n      <td>Age</td>\n      <td>18-49 yr</td>\n      <td>Race/Ethnicity</td>\n      <td>Black</td>\n      <td>1954.0</td>\n      <td>28.9</td>\n    </tr>\n    <tr>\n      <th>4</th>\n      <td>Age</td>\n      <td>18-49 yr</td>\n      <td>Race/Ethnicity</td>\n      <td>Hispanic/Latino</td>\n      <td>2682.0</td>\n      <td>39.7</td>\n    </tr>\n    <tr>\n      <th>5</th>\n      <td>Age</td>\n      <td>18-49 yr</td>\n      <td>Race/Ethnicity</td>\n      <td>Asian/Pacific Islander</td>\n      <td>355.0</td>\n      <td>5.3</td>\n    </tr>\n    <tr>\n      <th>6</th>\n      <td>Age</td>\n      <td>18-49 yr</td>\n      <td>Race/Ethnicity</td>\n      <td>American Indian/Alaska Native</td>\n      <td>167.0</td>\n      <td>2.5</td>\n    </tr>\n    <tr>\n      <th>7</th>\n      <td>Age</td>\n      <td>18-49 yr</td>\n      <td>Race/Ethnicity</td>\n      <td>Other</td>\n      <td>1001.0</td>\n      <td>14.8</td>\n    </tr>\n    <tr>\n      <th>8</th>\n      <td>Age</td>\n      <td>18-49 yr</td>\n      <td>BIPAP/CPAP</td>\n      <td>Yes</td>\n      <td>140.0</td>\n      <td>6.9</td>\n    </tr>\n    <tr>\n      <th>9</th>\n      <td>Age</td>\n      <td>18-49 yr</td>\n      <td>BIPAP/CPAP</td>\n      <td>No</td>\n      <td>1895.0</td>\n      <td>93.1</td>\n    </tr>\n  </tbody>\n</table>\n</div>"
     },
     "metadata": {},
     "execution_count": 5
    }
   ],
   "source": [
    "df1.head(10)"
   ]
  },
  {
   "cell_type": "code",
   "execution_count": 5,
   "metadata": {},
   "outputs": [
    {
     "output_type": "error",
     "ename": "NameError",
     "evalue": "name 'df1' is not defined",
     "traceback": [
      "\u001b[0;31m---------------------------------------------------------------------------\u001b[0m",
      "\u001b[0;31mNameError\u001b[0m                                 Traceback (most recent call last)",
      "\u001b[0;32m<ipython-input-5-1915fbb7ef2c>\u001b[0m in \u001b[0;36m<module>\u001b[0;34m\u001b[0m\n\u001b[0;32m----> 1\u001b[0;31m \u001b[0mdf1\u001b[0m\u001b[0;34m.\u001b[0m\u001b[0mshape\u001b[0m\u001b[0;34m\u001b[0m\u001b[0;34m\u001b[0m\u001b[0m\n\u001b[0m",
      "\u001b[0;31mNameError\u001b[0m: name 'df1' is not defined"
     ]
    }
   ],
   "source": [
    "df1.shape"
   ]
  },
  {
   "cell_type": "markdown",
   "metadata": {},
   "source": [
    "<h1>The initial goals for this data set:</h1>\n",
    "<h2>Rename Columns</h2>\n",
    "<h2>Indify Unique Values for each column</h2>\n",
    "<p>Characteristics of COVID-19-associated Hospitalizations from the COVID-NET Network (data downloaded on 6/22/2020)<br> \t\t\t\t\t(Centers for Disease Control and Prevention)</p>"
   ]
  },
  {
   "cell_type": "code",
   "execution_count": 74,
   "metadata": {},
   "outputs": [
    {
     "output_type": "execute_result",
     "data": {
      "text/plain": "array(['Age', 'Sex', 'Race/Ethnicity', 'In-hospital death',\n       'Intensive care unit', 'Mechanical ventilation',\n       'The Coronavirus Disease 2019 (COVID-19)-Associated Hospitalization Surveillance Network (COVID-NET) hospitalization data are preliminary and subject to change as more data become available. In particular, case counts for recent hospital admissions are subject to lag. As data are received each week, prior case counts are updated accordingly. Due to small case counts, data on pediatric cases (0-17 years old) will be suppressed until case counts are sufficient. The denominator for each underlying condition and characteristic data (except for intensive care unit, mechanical ventilation, in-hospital mortality, and discharge diagnoses) is the total number of patients with non-missing data for that condition or characteristic.  The denominator for intensive care unit, mechanical ventilation, in-hospital mortality, and discharge diagnoses is restricted to cases who are no longer hospitalized and who have complete medical chart reviews.  White, Black, Asian/Pacific Islander and American Indian/Alaska Native all represent non-Hispanic ethnicity groups; Other includes persons in multiple race categories and persons for whom race is unknown.',\n       'COVID-NET conducts population-based surveillance for laboratory-confirmed COVID-19-associated hospitalizations in children (less than 18 years of age) and adults. COVID-NET covers nearly 100 counties in the 10 Emerging Infections Program (EIP) states (CA, CO, CT, GA, MD, MN, NM, NY, OR, TN) and four Influenza Hospitalization Surveillance Project (IHSP) states (IA, MI, OH, and UT). ',\n       nan], dtype=object)"
     },
     "metadata": {},
     "execution_count": 74
    }
   ],
   "source": [
    "df1[\"Primary Strata\"].unique()"
   ]
  },
  {
   "cell_type": "code",
   "execution_count": 100,
   "metadata": {},
   "outputs": [
    {
     "output_type": "execute_result",
     "data": {
      "text/plain": "                                         Primary Strata Primary Strata Name  \\\n1910  The Coronavirus Disease 2019 (COVID-19)-Associ...                 NaN   \n\n     Characteristic Secondary Strata Name  Count  Percent  \n1910            NaN                   NaN    NaN      NaN  ",
      "text/html": "<div>\n<style scoped>\n    .dataframe tbody tr th:only-of-type {\n        vertical-align: middle;\n    }\n\n    .dataframe tbody tr th {\n        vertical-align: top;\n    }\n\n    .dataframe thead th {\n        text-align: right;\n    }\n</style>\n<table border=\"1\" class=\"dataframe\">\n  <thead>\n    <tr style=\"text-align: right;\">\n      <th></th>\n      <th>Primary Strata</th>\n      <th>Primary Strata Name</th>\n      <th>Characteristic</th>\n      <th>Secondary Strata Name</th>\n      <th>Count</th>\n      <th>Percent</th>\n    </tr>\n  </thead>\n  <tbody>\n    <tr>\n      <th>1910</th>\n      <td>The Coronavirus Disease 2019 (COVID-19)-Associ...</td>\n      <td>NaN</td>\n      <td>NaN</td>\n      <td>NaN</td>\n      <td>NaN</td>\n      <td>NaN</td>\n    </tr>\n  </tbody>\n</table>\n</div>"
     },
     "metadata": {},
     "execution_count": 100
    }
   ],
   "source": [
    "testing = df1.loc[df1['Primary Strata'] == 'The Coronavirus Disease 2019 (COVID-19)-Associated Hospitalization Surveillance Network (COVID-NET) hospitalization data are preliminary and subject to change as more data become available. In particular, case counts for recent hospital admissions are subject to lag. As data are received each week, prior case counts are updated accordingly. Due to small case counts, data on pediatric cases (0-17 years old) will be suppressed until case counts are sufficient. The denominator for each underlying condition and characteristic data (except for intensive care unit, mechanical ventilation, in-hospital mortality, and discharge diagnoses) is the total number of patients with non-missing data for that condition or characteristic.  The denominator for intensive care unit, mechanical ventilation, in-hospital mortality, and discharge diagnoses is restricted to cases who are no longer hospitalized and who have complete medical chart reviews.  White, Black, Asian/Pacific Islander and American Indian/Alaska Native all represent non-Hispanic ethnicity groups; Other includes persons in multiple race categories and persons for whom race is unknown.']\n",
    "testing "
   ]
  },
  {
   "cell_type": "code",
   "execution_count": 101,
   "metadata": {},
   "outputs": [
    {
     "output_type": "execute_result",
     "data": {
      "text/plain": "(1, 6)"
     },
     "metadata": {},
     "execution_count": 101
    }
   ],
   "source": [
    "testing.shape"
   ]
  },
  {
   "cell_type": "code",
   "execution_count": 75,
   "metadata": {},
   "outputs": [
    {
     "output_type": "execute_result",
     "data": {
      "text/plain": "array(['Sex', 'Race/Ethnicity', 'BIPAP/CPAP', 'In-hospital death', 'HFNC',\n       'Intensive care unit', 'Mechanical ventilation', 'RRT',\n       'Vasopressors', 'Blood disorder/Hemoglobinopathy', 'CLD', 'Asthma',\n       'COPD/emphysema', 'Obstructive sleep apnea', 'CMD', 'Diabetes',\n       'Thyroid dysfunction', 'CVD', 'Atrial fibrillation',\n       'Coronary artery disease', 'Heart failure', 'Stroke',\n       'Hypertension', 'Immunocompromised condition', 'AIDS/HIV',\n       'Liver disease', 'Neurologic', \"Dementia/Alzheimer's disease\",\n       'Obesity', 'Renal disease', 'Chronic kidney disease',\n       'Rheumatologic/Autoimmune', 'Tobacco use', 'Abdominal Pain',\n       'Altered mental status/confusion', 'Anosmia/decreased smell',\n       'Chest pain', 'Congested/runny nose', 'Conjunctivitis', 'Cough',\n       'Diarrhea', 'Dysgeusia/decreased taste', 'Fever/chills',\n       'Headache', 'Hemoptysis/bloody sputum', 'Muscle aches/myalgias',\n       'Nausea/vomiting', 'Rash', 'Seizure', 'Shortness of breath',\n       'Sore throat', 'Wheezing', 'Acute encephalopahty/encephalitis',\n       'Acute myocardial infarction', 'Acute myocarditis',\n       'Acute renal failure/acute kidney injury',\n       'Acute respiratory distress syndrome', 'Acute respiratory failure',\n       'Asthma exacerbation', 'Bacteremia', 'Bronchiolitis', 'Bronchitis',\n       'Congestive heart failure', 'COPD exacerbation',\n       'Diabetic ketoacidosis', 'Disseminated intravascular coagulation',\n       'Guillan-Barre syndrome', 'Hemophagocytic syndrome',\n       'Invasive pulmonary aspergillosis', 'Reyes Syndrome',\n       'Rhabdomyolysis', 'Pneumonia', 'Seizures', 'Sepsis', 'Stroke/CVA',\n       'Age', nan], dtype=object)"
     },
     "metadata": {},
     "execution_count": 75
    }
   ],
   "source": [
    "df1[\"Secondary Strata\"].unique()"
   ]
  },
  {
   "cell_type": "markdown",
   "metadata": {},
   "source": [
    "# Filter data rows that contain \"Race/Ethnicity\" based on age"
   ]
  },
  {
   "cell_type": "code",
   "execution_count": 76,
   "metadata": {},
   "outputs": [
    {
     "output_type": "execute_result",
     "data": {
      "text/plain": "Index(['Primary Strata', 'Primary Strata Name', 'Characteristic',\n       'Secondary Strata Name', 'Count', 'Percent'],\n      dtype='object')"
     },
     "metadata": {},
     "execution_count": 76
    }
   ],
   "source": [
    "df1.rename(columns = {'Secondary Strata':'Characteristic'}, inplace = True)\n",
    "df1.columns\n"
   ]
  },
  {
   "cell_type": "code",
   "execution_count": 77,
   "metadata": {},
   "outputs": [
    {
     "output_type": "execute_result",
     "data": {
      "text/plain": "(1913, 6)"
     },
     "metadata": {},
     "execution_count": 77
    }
   ],
   "source": [
    "df1.shape "
   ]
  },
  {
   "cell_type": "code",
   "execution_count": 78,
   "metadata": {
    "tags": []
   },
   "outputs": [
    {
     "output_type": "execute_result",
     "data": {
      "text/plain": "    Primary Strata Primary Strata Name  Characteristic  \\\n2              Age            18-49 yr  Race/Ethnicity   \n3              Age            18-49 yr  Race/Ethnicity   \n4              Age            18-49 yr  Race/Ethnicity   \n5              Age            18-49 yr  Race/Ethnicity   \n6              Age            18-49 yr  Race/Ethnicity   \n7              Age            18-49 yr  Race/Ethnicity   \n157            Age            50-64 yr  Race/Ethnicity   \n158            Age            50-64 yr  Race/Ethnicity   \n159            Age            50-64 yr  Race/Ethnicity   \n160            Age            50-64 yr  Race/Ethnicity   \n161            Age            50-64 yr  Race/Ethnicity   \n162            Age            50-64 yr  Race/Ethnicity   \n312            Age              65+ yr  Race/Ethnicity   \n313            Age              65+ yr  Race/Ethnicity   \n314            Age              65+ yr  Race/Ethnicity   \n315            Age              65+ yr  Race/Ethnicity   \n316            Age              65+ yr  Race/Ethnicity   \n317            Age              65+ yr  Race/Ethnicity   \n467            Age             Overall  Race/Ethnicity   \n468            Age             Overall  Race/Ethnicity   \n469            Age             Overall  Race/Ethnicity   \n470            Age             Overall  Race/Ethnicity   \n471            Age             Overall  Race/Ethnicity   \n472            Age             Overall  Race/Ethnicity   \n\n             Secondary Strata Name   Count  Percent  \n2                            White  1118.0     16.6  \n3                            Black  1954.0     28.9  \n4                  Hispanic/Latino  2682.0     39.7  \n5           Asian/Pacific Islander   355.0      5.3  \n6    American Indian/Alaska Native   167.0      2.5  \n7                            Other  1001.0     14.8  \n157                          White  2109.0     27.8  \n158                          Black  2809.0     37.1  \n159                Hispanic/Latino  1592.0     21.0  \n160         Asian/Pacific Islander   374.0      4.9  \n161  American Indian/Alaska Native   150.0      2.0  \n162                          Other  1068.0     14.1  \n312                          White  5749.0     48.8  \n313                          Black  3699.0     31.4  \n314                Hispanic/Latino  1027.0      8.7  \n315         Asian/Pacific Islander   501.0      4.2  \n316  American Indian/Alaska Native   110.0      0.9  \n317                          Other  1316.0     11.2  \n467                          White  8976.0     34.4  \n468                          Black  8462.0     32.4  \n469                Hispanic/Latino  5301.0     20.3  \n470         Asian/Pacific Islander  1230.0      4.7  \n471  American Indian/Alaska Native   427.0      1.6  \n472                          Other  3385.0     13.0  ",
      "text/html": "<div>\n<style scoped>\n    .dataframe tbody tr th:only-of-type {\n        vertical-align: middle;\n    }\n\n    .dataframe tbody tr th {\n        vertical-align: top;\n    }\n\n    .dataframe thead th {\n        text-align: right;\n    }\n</style>\n<table border=\"1\" class=\"dataframe\">\n  <thead>\n    <tr style=\"text-align: right;\">\n      <th></th>\n      <th>Primary Strata</th>\n      <th>Primary Strata Name</th>\n      <th>Characteristic</th>\n      <th>Secondary Strata Name</th>\n      <th>Count</th>\n      <th>Percent</th>\n    </tr>\n  </thead>\n  <tbody>\n    <tr>\n      <th>2</th>\n      <td>Age</td>\n      <td>18-49 yr</td>\n      <td>Race/Ethnicity</td>\n      <td>White</td>\n      <td>1118.0</td>\n      <td>16.6</td>\n    </tr>\n    <tr>\n      <th>3</th>\n      <td>Age</td>\n      <td>18-49 yr</td>\n      <td>Race/Ethnicity</td>\n      <td>Black</td>\n      <td>1954.0</td>\n      <td>28.9</td>\n    </tr>\n    <tr>\n      <th>4</th>\n      <td>Age</td>\n      <td>18-49 yr</td>\n      <td>Race/Ethnicity</td>\n      <td>Hispanic/Latino</td>\n      <td>2682.0</td>\n      <td>39.7</td>\n    </tr>\n    <tr>\n      <th>5</th>\n      <td>Age</td>\n      <td>18-49 yr</td>\n      <td>Race/Ethnicity</td>\n      <td>Asian/Pacific Islander</td>\n      <td>355.0</td>\n      <td>5.3</td>\n    </tr>\n    <tr>\n      <th>6</th>\n      <td>Age</td>\n      <td>18-49 yr</td>\n      <td>Race/Ethnicity</td>\n      <td>American Indian/Alaska Native</td>\n      <td>167.0</td>\n      <td>2.5</td>\n    </tr>\n    <tr>\n      <th>7</th>\n      <td>Age</td>\n      <td>18-49 yr</td>\n      <td>Race/Ethnicity</td>\n      <td>Other</td>\n      <td>1001.0</td>\n      <td>14.8</td>\n    </tr>\n    <tr>\n      <th>157</th>\n      <td>Age</td>\n      <td>50-64 yr</td>\n      <td>Race/Ethnicity</td>\n      <td>White</td>\n      <td>2109.0</td>\n      <td>27.8</td>\n    </tr>\n    <tr>\n      <th>158</th>\n      <td>Age</td>\n      <td>50-64 yr</td>\n      <td>Race/Ethnicity</td>\n      <td>Black</td>\n      <td>2809.0</td>\n      <td>37.1</td>\n    </tr>\n    <tr>\n      <th>159</th>\n      <td>Age</td>\n      <td>50-64 yr</td>\n      <td>Race/Ethnicity</td>\n      <td>Hispanic/Latino</td>\n      <td>1592.0</td>\n      <td>21.0</td>\n    </tr>\n    <tr>\n      <th>160</th>\n      <td>Age</td>\n      <td>50-64 yr</td>\n      <td>Race/Ethnicity</td>\n      <td>Asian/Pacific Islander</td>\n      <td>374.0</td>\n      <td>4.9</td>\n    </tr>\n    <tr>\n      <th>161</th>\n      <td>Age</td>\n      <td>50-64 yr</td>\n      <td>Race/Ethnicity</td>\n      <td>American Indian/Alaska Native</td>\n      <td>150.0</td>\n      <td>2.0</td>\n    </tr>\n    <tr>\n      <th>162</th>\n      <td>Age</td>\n      <td>50-64 yr</td>\n      <td>Race/Ethnicity</td>\n      <td>Other</td>\n      <td>1068.0</td>\n      <td>14.1</td>\n    </tr>\n    <tr>\n      <th>312</th>\n      <td>Age</td>\n      <td>65+ yr</td>\n      <td>Race/Ethnicity</td>\n      <td>White</td>\n      <td>5749.0</td>\n      <td>48.8</td>\n    </tr>\n    <tr>\n      <th>313</th>\n      <td>Age</td>\n      <td>65+ yr</td>\n      <td>Race/Ethnicity</td>\n      <td>Black</td>\n      <td>3699.0</td>\n      <td>31.4</td>\n    </tr>\n    <tr>\n      <th>314</th>\n      <td>Age</td>\n      <td>65+ yr</td>\n      <td>Race/Ethnicity</td>\n      <td>Hispanic/Latino</td>\n      <td>1027.0</td>\n      <td>8.7</td>\n    </tr>\n    <tr>\n      <th>315</th>\n      <td>Age</td>\n      <td>65+ yr</td>\n      <td>Race/Ethnicity</td>\n      <td>Asian/Pacific Islander</td>\n      <td>501.0</td>\n      <td>4.2</td>\n    </tr>\n    <tr>\n      <th>316</th>\n      <td>Age</td>\n      <td>65+ yr</td>\n      <td>Race/Ethnicity</td>\n      <td>American Indian/Alaska Native</td>\n      <td>110.0</td>\n      <td>0.9</td>\n    </tr>\n    <tr>\n      <th>317</th>\n      <td>Age</td>\n      <td>65+ yr</td>\n      <td>Race/Ethnicity</td>\n      <td>Other</td>\n      <td>1316.0</td>\n      <td>11.2</td>\n    </tr>\n    <tr>\n      <th>467</th>\n      <td>Age</td>\n      <td>Overall</td>\n      <td>Race/Ethnicity</td>\n      <td>White</td>\n      <td>8976.0</td>\n      <td>34.4</td>\n    </tr>\n    <tr>\n      <th>468</th>\n      <td>Age</td>\n      <td>Overall</td>\n      <td>Race/Ethnicity</td>\n      <td>Black</td>\n      <td>8462.0</td>\n      <td>32.4</td>\n    </tr>\n    <tr>\n      <th>469</th>\n      <td>Age</td>\n      <td>Overall</td>\n      <td>Race/Ethnicity</td>\n      <td>Hispanic/Latino</td>\n      <td>5301.0</td>\n      <td>20.3</td>\n    </tr>\n    <tr>\n      <th>470</th>\n      <td>Age</td>\n      <td>Overall</td>\n      <td>Race/Ethnicity</td>\n      <td>Asian/Pacific Islander</td>\n      <td>1230.0</td>\n      <td>4.7</td>\n    </tr>\n    <tr>\n      <th>471</th>\n      <td>Age</td>\n      <td>Overall</td>\n      <td>Race/Ethnicity</td>\n      <td>American Indian/Alaska Native</td>\n      <td>427.0</td>\n      <td>1.6</td>\n    </tr>\n    <tr>\n      <th>472</th>\n      <td>Age</td>\n      <td>Overall</td>\n      <td>Race/Ethnicity</td>\n      <td>Other</td>\n      <td>3385.0</td>\n      <td>13.0</td>\n    </tr>\n  </tbody>\n</table>\n</div>"
     },
     "metadata": {},
     "execution_count": 78
    }
   ],
   "source": [
    "df1_a = df1.loc[(df1['Characteristic'] == 'Race/Ethnicity') & (df1['Primary Strata'] == 'Age')]\n",
    "df1_a "
   ]
  },
  {
   "cell_type": "code",
   "execution_count": 79,
   "metadata": {},
   "outputs": [
    {
     "output_type": "execute_result",
     "data": {
      "text/plain": "(24, 6)"
     },
     "metadata": {},
     "execution_count": 79
    }
   ],
   "source": [
    "df1_a.shape"
   ]
  },
  {
   "cell_type": "code",
   "execution_count": 80,
   "metadata": {},
   "outputs": [
    {
     "output_type": "execute_result",
     "data": {
      "text/plain": "  Primary Strata Primary Strata Name  Characteristic  \\\n2            Age            18-49 yr  Race/Ethnicity   \n3            Age            18-49 yr  Race/Ethnicity   \n4            Age            18-49 yr  Race/Ethnicity   \n5            Age            18-49 yr  Race/Ethnicity   \n6            Age            18-49 yr  Race/Ethnicity   \n7            Age            18-49 yr  Race/Ethnicity   \n\n           Secondary Strata Name   Count  Percent  \n2                          White  1118.0     16.6  \n3                          Black  1954.0     28.9  \n4                Hispanic/Latino  2682.0     39.7  \n5         Asian/Pacific Islander   355.0      5.3  \n6  American Indian/Alaska Native   167.0      2.5  \n7                          Other  1001.0     14.8  ",
      "text/html": "<div>\n<style scoped>\n    .dataframe tbody tr th:only-of-type {\n        vertical-align: middle;\n    }\n\n    .dataframe tbody tr th {\n        vertical-align: top;\n    }\n\n    .dataframe thead th {\n        text-align: right;\n    }\n</style>\n<table border=\"1\" class=\"dataframe\">\n  <thead>\n    <tr style=\"text-align: right;\">\n      <th></th>\n      <th>Primary Strata</th>\n      <th>Primary Strata Name</th>\n      <th>Characteristic</th>\n      <th>Secondary Strata Name</th>\n      <th>Count</th>\n      <th>Percent</th>\n    </tr>\n  </thead>\n  <tbody>\n    <tr>\n      <th>2</th>\n      <td>Age</td>\n      <td>18-49 yr</td>\n      <td>Race/Ethnicity</td>\n      <td>White</td>\n      <td>1118.0</td>\n      <td>16.6</td>\n    </tr>\n    <tr>\n      <th>3</th>\n      <td>Age</td>\n      <td>18-49 yr</td>\n      <td>Race/Ethnicity</td>\n      <td>Black</td>\n      <td>1954.0</td>\n      <td>28.9</td>\n    </tr>\n    <tr>\n      <th>4</th>\n      <td>Age</td>\n      <td>18-49 yr</td>\n      <td>Race/Ethnicity</td>\n      <td>Hispanic/Latino</td>\n      <td>2682.0</td>\n      <td>39.7</td>\n    </tr>\n    <tr>\n      <th>5</th>\n      <td>Age</td>\n      <td>18-49 yr</td>\n      <td>Race/Ethnicity</td>\n      <td>Asian/Pacific Islander</td>\n      <td>355.0</td>\n      <td>5.3</td>\n    </tr>\n    <tr>\n      <th>6</th>\n      <td>Age</td>\n      <td>18-49 yr</td>\n      <td>Race/Ethnicity</td>\n      <td>American Indian/Alaska Native</td>\n      <td>167.0</td>\n      <td>2.5</td>\n    </tr>\n    <tr>\n      <th>7</th>\n      <td>Age</td>\n      <td>18-49 yr</td>\n      <td>Race/Ethnicity</td>\n      <td>Other</td>\n      <td>1001.0</td>\n      <td>14.8</td>\n    </tr>\n  </tbody>\n</table>\n</div>"
     },
     "metadata": {},
     "execution_count": 80
    }
   ],
   "source": [
    "df1_young = df1_a.loc[df1_a['Primary Strata Name'] == '18-49 yr']\n",
    "df1_young"
   ]
  },
  {
   "cell_type": "code",
   "execution_count": 81,
   "metadata": {},
   "outputs": [
    {
     "output_type": "execute_result",
     "data": {
      "text/plain": "    Primary Strata Primary Strata Name  Characteristic  \\\n157            Age            50-64 yr  Race/Ethnicity   \n158            Age            50-64 yr  Race/Ethnicity   \n159            Age            50-64 yr  Race/Ethnicity   \n160            Age            50-64 yr  Race/Ethnicity   \n161            Age            50-64 yr  Race/Ethnicity   \n162            Age            50-64 yr  Race/Ethnicity   \n\n             Secondary Strata Name   Count  Percent  \n157                          White  2109.0     27.8  \n158                          Black  2809.0     37.1  \n159                Hispanic/Latino  1592.0     21.0  \n160         Asian/Pacific Islander   374.0      4.9  \n161  American Indian/Alaska Native   150.0      2.0  \n162                          Other  1068.0     14.1  ",
      "text/html": "<div>\n<style scoped>\n    .dataframe tbody tr th:only-of-type {\n        vertical-align: middle;\n    }\n\n    .dataframe tbody tr th {\n        vertical-align: top;\n    }\n\n    .dataframe thead th {\n        text-align: right;\n    }\n</style>\n<table border=\"1\" class=\"dataframe\">\n  <thead>\n    <tr style=\"text-align: right;\">\n      <th></th>\n      <th>Primary Strata</th>\n      <th>Primary Strata Name</th>\n      <th>Characteristic</th>\n      <th>Secondary Strata Name</th>\n      <th>Count</th>\n      <th>Percent</th>\n    </tr>\n  </thead>\n  <tbody>\n    <tr>\n      <th>157</th>\n      <td>Age</td>\n      <td>50-64 yr</td>\n      <td>Race/Ethnicity</td>\n      <td>White</td>\n      <td>2109.0</td>\n      <td>27.8</td>\n    </tr>\n    <tr>\n      <th>158</th>\n      <td>Age</td>\n      <td>50-64 yr</td>\n      <td>Race/Ethnicity</td>\n      <td>Black</td>\n      <td>2809.0</td>\n      <td>37.1</td>\n    </tr>\n    <tr>\n      <th>159</th>\n      <td>Age</td>\n      <td>50-64 yr</td>\n      <td>Race/Ethnicity</td>\n      <td>Hispanic/Latino</td>\n      <td>1592.0</td>\n      <td>21.0</td>\n    </tr>\n    <tr>\n      <th>160</th>\n      <td>Age</td>\n      <td>50-64 yr</td>\n      <td>Race/Ethnicity</td>\n      <td>Asian/Pacific Islander</td>\n      <td>374.0</td>\n      <td>4.9</td>\n    </tr>\n    <tr>\n      <th>161</th>\n      <td>Age</td>\n      <td>50-64 yr</td>\n      <td>Race/Ethnicity</td>\n      <td>American Indian/Alaska Native</td>\n      <td>150.0</td>\n      <td>2.0</td>\n    </tr>\n    <tr>\n      <th>162</th>\n      <td>Age</td>\n      <td>50-64 yr</td>\n      <td>Race/Ethnicity</td>\n      <td>Other</td>\n      <td>1068.0</td>\n      <td>14.1</td>\n    </tr>\n  </tbody>\n</table>\n</div>"
     },
     "metadata": {},
     "execution_count": 81
    }
   ],
   "source": [
    "df1_mid = df1_a.loc[df1_a['Primary Strata Name'] == '50-64 yr']\n",
    "df1_mid"
   ]
  },
  {
   "cell_type": "code",
   "execution_count": 82,
   "metadata": {},
   "outputs": [
    {
     "output_type": "execute_result",
     "data": {
      "text/plain": "    Primary Strata Primary Strata Name  Characteristic  \\\n312            Age              65+ yr  Race/Ethnicity   \n313            Age              65+ yr  Race/Ethnicity   \n314            Age              65+ yr  Race/Ethnicity   \n315            Age              65+ yr  Race/Ethnicity   \n316            Age              65+ yr  Race/Ethnicity   \n317            Age              65+ yr  Race/Ethnicity   \n\n             Secondary Strata Name   Count  Percent  \n312                          White  5749.0     48.8  \n313                          Black  3699.0     31.4  \n314                Hispanic/Latino  1027.0      8.7  \n315         Asian/Pacific Islander   501.0      4.2  \n316  American Indian/Alaska Native   110.0      0.9  \n317                          Other  1316.0     11.2  ",
      "text/html": "<div>\n<style scoped>\n    .dataframe tbody tr th:only-of-type {\n        vertical-align: middle;\n    }\n\n    .dataframe tbody tr th {\n        vertical-align: top;\n    }\n\n    .dataframe thead th {\n        text-align: right;\n    }\n</style>\n<table border=\"1\" class=\"dataframe\">\n  <thead>\n    <tr style=\"text-align: right;\">\n      <th></th>\n      <th>Primary Strata</th>\n      <th>Primary Strata Name</th>\n      <th>Characteristic</th>\n      <th>Secondary Strata Name</th>\n      <th>Count</th>\n      <th>Percent</th>\n    </tr>\n  </thead>\n  <tbody>\n    <tr>\n      <th>312</th>\n      <td>Age</td>\n      <td>65+ yr</td>\n      <td>Race/Ethnicity</td>\n      <td>White</td>\n      <td>5749.0</td>\n      <td>48.8</td>\n    </tr>\n    <tr>\n      <th>313</th>\n      <td>Age</td>\n      <td>65+ yr</td>\n      <td>Race/Ethnicity</td>\n      <td>Black</td>\n      <td>3699.0</td>\n      <td>31.4</td>\n    </tr>\n    <tr>\n      <th>314</th>\n      <td>Age</td>\n      <td>65+ yr</td>\n      <td>Race/Ethnicity</td>\n      <td>Hispanic/Latino</td>\n      <td>1027.0</td>\n      <td>8.7</td>\n    </tr>\n    <tr>\n      <th>315</th>\n      <td>Age</td>\n      <td>65+ yr</td>\n      <td>Race/Ethnicity</td>\n      <td>Asian/Pacific Islander</td>\n      <td>501.0</td>\n      <td>4.2</td>\n    </tr>\n    <tr>\n      <th>316</th>\n      <td>Age</td>\n      <td>65+ yr</td>\n      <td>Race/Ethnicity</td>\n      <td>American Indian/Alaska Native</td>\n      <td>110.0</td>\n      <td>0.9</td>\n    </tr>\n    <tr>\n      <th>317</th>\n      <td>Age</td>\n      <td>65+ yr</td>\n      <td>Race/Ethnicity</td>\n      <td>Other</td>\n      <td>1316.0</td>\n      <td>11.2</td>\n    </tr>\n  </tbody>\n</table>\n</div>"
     },
     "metadata": {},
     "execution_count": 82
    }
   ],
   "source": [
    "df1_old = df1_a.loc[df1_a['Primary Strata Name'] == '65+ yr']\n",
    "df1_old"
   ]
  },
  {
   "cell_type": "code",
   "execution_count": 83,
   "metadata": {},
   "outputs": [
    {
     "output_type": "display_data",
     "data": {
      "application/vnd.plotly.v1+json": {
       "config": {
        "plotlyServerURL": "https://plot.ly"
       },
       "data": [
        {
         "type": "bar",
         "x": [
          "White",
          "Black",
          "Hispanic/Latino",
          "Asian/Pacific Islander",
          "American Indian/Alaska Native",
          "Other"
         ],
         "y": [
          27.8,
          37.1,
          21,
          4.9,
          2,
          14.1
         ]
        }
       ],
       "layout": {
        "template": {
         "data": {
          "bar": [
           {
            "error_x": {
             "color": "#2a3f5f"
            },
            "error_y": {
             "color": "#2a3f5f"
            },
            "marker": {
             "line": {
              "color": "#E5ECF6",
              "width": 0.5
             }
            },
            "type": "bar"
           }
          ],
          "barpolar": [
           {
            "marker": {
             "line": {
              "color": "#E5ECF6",
              "width": 0.5
             }
            },
            "type": "barpolar"
           }
          ],
          "carpet": [
           {
            "aaxis": {
             "endlinecolor": "#2a3f5f",
             "gridcolor": "white",
             "linecolor": "white",
             "minorgridcolor": "white",
             "startlinecolor": "#2a3f5f"
            },
            "baxis": {
             "endlinecolor": "#2a3f5f",
             "gridcolor": "white",
             "linecolor": "white",
             "minorgridcolor": "white",
             "startlinecolor": "#2a3f5f"
            },
            "type": "carpet"
           }
          ],
          "choropleth": [
           {
            "colorbar": {
             "outlinewidth": 0,
             "ticks": ""
            },
            "type": "choropleth"
           }
          ],
          "contour": [
           {
            "colorbar": {
             "outlinewidth": 0,
             "ticks": ""
            },
            "colorscale": [
             [
              0,
              "#0d0887"
             ],
             [
              0.1111111111111111,
              "#46039f"
             ],
             [
              0.2222222222222222,
              "#7201a8"
             ],
             [
              0.3333333333333333,
              "#9c179e"
             ],
             [
              0.4444444444444444,
              "#bd3786"
             ],
             [
              0.5555555555555556,
              "#d8576b"
             ],
             [
              0.6666666666666666,
              "#ed7953"
             ],
             [
              0.7777777777777778,
              "#fb9f3a"
             ],
             [
              0.8888888888888888,
              "#fdca26"
             ],
             [
              1,
              "#f0f921"
             ]
            ],
            "type": "contour"
           }
          ],
          "contourcarpet": [
           {
            "colorbar": {
             "outlinewidth": 0,
             "ticks": ""
            },
            "type": "contourcarpet"
           }
          ],
          "heatmap": [
           {
            "colorbar": {
             "outlinewidth": 0,
             "ticks": ""
            },
            "colorscale": [
             [
              0,
              "#0d0887"
             ],
             [
              0.1111111111111111,
              "#46039f"
             ],
             [
              0.2222222222222222,
              "#7201a8"
             ],
             [
              0.3333333333333333,
              "#9c179e"
             ],
             [
              0.4444444444444444,
              "#bd3786"
             ],
             [
              0.5555555555555556,
              "#d8576b"
             ],
             [
              0.6666666666666666,
              "#ed7953"
             ],
             [
              0.7777777777777778,
              "#fb9f3a"
             ],
             [
              0.8888888888888888,
              "#fdca26"
             ],
             [
              1,
              "#f0f921"
             ]
            ],
            "type": "heatmap"
           }
          ],
          "heatmapgl": [
           {
            "colorbar": {
             "outlinewidth": 0,
             "ticks": ""
            },
            "colorscale": [
             [
              0,
              "#0d0887"
             ],
             [
              0.1111111111111111,
              "#46039f"
             ],
             [
              0.2222222222222222,
              "#7201a8"
             ],
             [
              0.3333333333333333,
              "#9c179e"
             ],
             [
              0.4444444444444444,
              "#bd3786"
             ],
             [
              0.5555555555555556,
              "#d8576b"
             ],
             [
              0.6666666666666666,
              "#ed7953"
             ],
             [
              0.7777777777777778,
              "#fb9f3a"
             ],
             [
              0.8888888888888888,
              "#fdca26"
             ],
             [
              1,
              "#f0f921"
             ]
            ],
            "type": "heatmapgl"
           }
          ],
          "histogram": [
           {
            "marker": {
             "colorbar": {
              "outlinewidth": 0,
              "ticks": ""
             }
            },
            "type": "histogram"
           }
          ],
          "histogram2d": [
           {
            "colorbar": {
             "outlinewidth": 0,
             "ticks": ""
            },
            "colorscale": [
             [
              0,
              "#0d0887"
             ],
             [
              0.1111111111111111,
              "#46039f"
             ],
             [
              0.2222222222222222,
              "#7201a8"
             ],
             [
              0.3333333333333333,
              "#9c179e"
             ],
             [
              0.4444444444444444,
              "#bd3786"
             ],
             [
              0.5555555555555556,
              "#d8576b"
             ],
             [
              0.6666666666666666,
              "#ed7953"
             ],
             [
              0.7777777777777778,
              "#fb9f3a"
             ],
             [
              0.8888888888888888,
              "#fdca26"
             ],
             [
              1,
              "#f0f921"
             ]
            ],
            "type": "histogram2d"
           }
          ],
          "histogram2dcontour": [
           {
            "colorbar": {
             "outlinewidth": 0,
             "ticks": ""
            },
            "colorscale": [
             [
              0,
              "#0d0887"
             ],
             [
              0.1111111111111111,
              "#46039f"
             ],
             [
              0.2222222222222222,
              "#7201a8"
             ],
             [
              0.3333333333333333,
              "#9c179e"
             ],
             [
              0.4444444444444444,
              "#bd3786"
             ],
             [
              0.5555555555555556,
              "#d8576b"
             ],
             [
              0.6666666666666666,
              "#ed7953"
             ],
             [
              0.7777777777777778,
              "#fb9f3a"
             ],
             [
              0.8888888888888888,
              "#fdca26"
             ],
             [
              1,
              "#f0f921"
             ]
            ],
            "type": "histogram2dcontour"
           }
          ],
          "mesh3d": [
           {
            "colorbar": {
             "outlinewidth": 0,
             "ticks": ""
            },
            "type": "mesh3d"
           }
          ],
          "parcoords": [
           {
            "line": {
             "colorbar": {
              "outlinewidth": 0,
              "ticks": ""
             }
            },
            "type": "parcoords"
           }
          ],
          "pie": [
           {
            "automargin": true,
            "type": "pie"
           }
          ],
          "scatter": [
           {
            "marker": {
             "colorbar": {
              "outlinewidth": 0,
              "ticks": ""
             }
            },
            "type": "scatter"
           }
          ],
          "scatter3d": [
           {
            "line": {
             "colorbar": {
              "outlinewidth": 0,
              "ticks": ""
             }
            },
            "marker": {
             "colorbar": {
              "outlinewidth": 0,
              "ticks": ""
             }
            },
            "type": "scatter3d"
           }
          ],
          "scattercarpet": [
           {
            "marker": {
             "colorbar": {
              "outlinewidth": 0,
              "ticks": ""
             }
            },
            "type": "scattercarpet"
           }
          ],
          "scattergeo": [
           {
            "marker": {
             "colorbar": {
              "outlinewidth": 0,
              "ticks": ""
             }
            },
            "type": "scattergeo"
           }
          ],
          "scattergl": [
           {
            "marker": {
             "colorbar": {
              "outlinewidth": 0,
              "ticks": ""
             }
            },
            "type": "scattergl"
           }
          ],
          "scattermapbox": [
           {
            "marker": {
             "colorbar": {
              "outlinewidth": 0,
              "ticks": ""
             }
            },
            "type": "scattermapbox"
           }
          ],
          "scatterpolar": [
           {
            "marker": {
             "colorbar": {
              "outlinewidth": 0,
              "ticks": ""
             }
            },
            "type": "scatterpolar"
           }
          ],
          "scatterpolargl": [
           {
            "marker": {
             "colorbar": {
              "outlinewidth": 0,
              "ticks": ""
             }
            },
            "type": "scatterpolargl"
           }
          ],
          "scatterternary": [
           {
            "marker": {
             "colorbar": {
              "outlinewidth": 0,
              "ticks": ""
             }
            },
            "type": "scatterternary"
           }
          ],
          "surface": [
           {
            "colorbar": {
             "outlinewidth": 0,
             "ticks": ""
            },
            "colorscale": [
             [
              0,
              "#0d0887"
             ],
             [
              0.1111111111111111,
              "#46039f"
             ],
             [
              0.2222222222222222,
              "#7201a8"
             ],
             [
              0.3333333333333333,
              "#9c179e"
             ],
             [
              0.4444444444444444,
              "#bd3786"
             ],
             [
              0.5555555555555556,
              "#d8576b"
             ],
             [
              0.6666666666666666,
              "#ed7953"
             ],
             [
              0.7777777777777778,
              "#fb9f3a"
             ],
             [
              0.8888888888888888,
              "#fdca26"
             ],
             [
              1,
              "#f0f921"
             ]
            ],
            "type": "surface"
           }
          ],
          "table": [
           {
            "cells": {
             "fill": {
              "color": "#EBF0F8"
             },
             "line": {
              "color": "white"
             }
            },
            "header": {
             "fill": {
              "color": "#C8D4E3"
             },
             "line": {
              "color": "white"
             }
            },
            "type": "table"
           }
          ]
         },
         "layout": {
          "annotationdefaults": {
           "arrowcolor": "#2a3f5f",
           "arrowhead": 0,
           "arrowwidth": 1
          },
          "coloraxis": {
           "colorbar": {
            "outlinewidth": 0,
            "ticks": ""
           }
          },
          "colorscale": {
           "diverging": [
            [
             0,
             "#8e0152"
            ],
            [
             0.1,
             "#c51b7d"
            ],
            [
             0.2,
             "#de77ae"
            ],
            [
             0.3,
             "#f1b6da"
            ],
            [
             0.4,
             "#fde0ef"
            ],
            [
             0.5,
             "#f7f7f7"
            ],
            [
             0.6,
             "#e6f5d0"
            ],
            [
             0.7,
             "#b8e186"
            ],
            [
             0.8,
             "#7fbc41"
            ],
            [
             0.9,
             "#4d9221"
            ],
            [
             1,
             "#276419"
            ]
           ],
           "sequential": [
            [
             0,
             "#0d0887"
            ],
            [
             0.1111111111111111,
             "#46039f"
            ],
            [
             0.2222222222222222,
             "#7201a8"
            ],
            [
             0.3333333333333333,
             "#9c179e"
            ],
            [
             0.4444444444444444,
             "#bd3786"
            ],
            [
             0.5555555555555556,
             "#d8576b"
            ],
            [
             0.6666666666666666,
             "#ed7953"
            ],
            [
             0.7777777777777778,
             "#fb9f3a"
            ],
            [
             0.8888888888888888,
             "#fdca26"
            ],
            [
             1,
             "#f0f921"
            ]
           ],
           "sequentialminus": [
            [
             0,
             "#0d0887"
            ],
            [
             0.1111111111111111,
             "#46039f"
            ],
            [
             0.2222222222222222,
             "#7201a8"
            ],
            [
             0.3333333333333333,
             "#9c179e"
            ],
            [
             0.4444444444444444,
             "#bd3786"
            ],
            [
             0.5555555555555556,
             "#d8576b"
            ],
            [
             0.6666666666666666,
             "#ed7953"
            ],
            [
             0.7777777777777778,
             "#fb9f3a"
            ],
            [
             0.8888888888888888,
             "#fdca26"
            ],
            [
             1,
             "#f0f921"
            ]
           ]
          },
          "colorway": [
           "#636efa",
           "#EF553B",
           "#00cc96",
           "#ab63fa",
           "#FFA15A",
           "#19d3f3",
           "#FF6692",
           "#B6E880",
           "#FF97FF",
           "#FECB52"
          ],
          "font": {
           "color": "#2a3f5f"
          },
          "geo": {
           "bgcolor": "white",
           "lakecolor": "white",
           "landcolor": "#E5ECF6",
           "showlakes": true,
           "showland": true,
           "subunitcolor": "white"
          },
          "hoverlabel": {
           "align": "left"
          },
          "hovermode": "closest",
          "mapbox": {
           "style": "light"
          },
          "paper_bgcolor": "white",
          "plot_bgcolor": "#E5ECF6",
          "polar": {
           "angularaxis": {
            "gridcolor": "white",
            "linecolor": "white",
            "ticks": ""
           },
           "bgcolor": "#E5ECF6",
           "radialaxis": {
            "gridcolor": "white",
            "linecolor": "white",
            "ticks": ""
           }
          },
          "scene": {
           "xaxis": {
            "backgroundcolor": "#E5ECF6",
            "gridcolor": "white",
            "gridwidth": 2,
            "linecolor": "white",
            "showbackground": true,
            "ticks": "",
            "zerolinecolor": "white"
           },
           "yaxis": {
            "backgroundcolor": "#E5ECF6",
            "gridcolor": "white",
            "gridwidth": 2,
            "linecolor": "white",
            "showbackground": true,
            "ticks": "",
            "zerolinecolor": "white"
           },
           "zaxis": {
            "backgroundcolor": "#E5ECF6",
            "gridcolor": "white",
            "gridwidth": 2,
            "linecolor": "white",
            "showbackground": true,
            "ticks": "",
            "zerolinecolor": "white"
           }
          },
          "shapedefaults": {
           "line": {
            "color": "#2a3f5f"
           }
          },
          "ternary": {
           "aaxis": {
            "gridcolor": "white",
            "linecolor": "white",
            "ticks": ""
           },
           "baxis": {
            "gridcolor": "white",
            "linecolor": "white",
            "ticks": ""
           },
           "bgcolor": "#E5ECF6",
           "caxis": {
            "gridcolor": "white",
            "linecolor": "white",
            "ticks": ""
           }
          },
          "title": {
           "x": 0.05
          },
          "xaxis": {
           "automargin": true,
           "gridcolor": "white",
           "linecolor": "white",
           "ticks": "",
           "title": {
            "standoff": 15
           },
           "zerolinecolor": "white",
           "zerolinewidth": 2
          },
          "yaxis": {
           "automargin": true,
           "gridcolor": "white",
           "linecolor": "white",
           "ticks": "",
           "title": {
            "standoff": 15
           },
           "zerolinecolor": "white",
           "zerolinewidth": 2
          }
         }
        },
        "title": {
         "text": "COVID-19 Confirmed Cases Amongst 50-64 year old Patients based on Race"
        }
       }
      }
     },
     "metadata": {}
    }
   ],
   "source": [
    "data = [go.Bar(\n",
    "    x=df1_mid['Secondary Strata Name'],\n",
    "    y=df1_mid['Percent']\n",
    ")]\n",
    "layout = go.Layout(title = \"COVID-19 Confirmed Cases Amongst 50-64 year old Patients based on Race\")\n",
    "fig = go.Figure(data=data, layout = layout)\n",
    "fig.show()"
   ]
  },
  {
   "cell_type": "code",
   "execution_count": 84,
   "metadata": {},
   "outputs": [
    {
     "output_type": "display_data",
     "data": {
      "application/vnd.plotly.v1+json": {
       "config": {
        "plotlyServerURL": "https://plot.ly"
       },
       "data": [
        {
         "labels": [
          "White",
          "Black",
          "Hispanic/Latino",
          "Asian/Pacific Islander",
          "American Indian/Alaska Native",
          "Other"
         ],
         "type": "pie",
         "values": [
          27.8,
          37.1,
          21,
          4.9,
          2,
          14.1
         ]
        }
       ],
       "layout": {
        "template": {
         "data": {
          "bar": [
           {
            "error_x": {
             "color": "#2a3f5f"
            },
            "error_y": {
             "color": "#2a3f5f"
            },
            "marker": {
             "line": {
              "color": "#E5ECF6",
              "width": 0.5
             }
            },
            "type": "bar"
           }
          ],
          "barpolar": [
           {
            "marker": {
             "line": {
              "color": "#E5ECF6",
              "width": 0.5
             }
            },
            "type": "barpolar"
           }
          ],
          "carpet": [
           {
            "aaxis": {
             "endlinecolor": "#2a3f5f",
             "gridcolor": "white",
             "linecolor": "white",
             "minorgridcolor": "white",
             "startlinecolor": "#2a3f5f"
            },
            "baxis": {
             "endlinecolor": "#2a3f5f",
             "gridcolor": "white",
             "linecolor": "white",
             "minorgridcolor": "white",
             "startlinecolor": "#2a3f5f"
            },
            "type": "carpet"
           }
          ],
          "choropleth": [
           {
            "colorbar": {
             "outlinewidth": 0,
             "ticks": ""
            },
            "type": "choropleth"
           }
          ],
          "contour": [
           {
            "colorbar": {
             "outlinewidth": 0,
             "ticks": ""
            },
            "colorscale": [
             [
              0,
              "#0d0887"
             ],
             [
              0.1111111111111111,
              "#46039f"
             ],
             [
              0.2222222222222222,
              "#7201a8"
             ],
             [
              0.3333333333333333,
              "#9c179e"
             ],
             [
              0.4444444444444444,
              "#bd3786"
             ],
             [
              0.5555555555555556,
              "#d8576b"
             ],
             [
              0.6666666666666666,
              "#ed7953"
             ],
             [
              0.7777777777777778,
              "#fb9f3a"
             ],
             [
              0.8888888888888888,
              "#fdca26"
             ],
             [
              1,
              "#f0f921"
             ]
            ],
            "type": "contour"
           }
          ],
          "contourcarpet": [
           {
            "colorbar": {
             "outlinewidth": 0,
             "ticks": ""
            },
            "type": "contourcarpet"
           }
          ],
          "heatmap": [
           {
            "colorbar": {
             "outlinewidth": 0,
             "ticks": ""
            },
            "colorscale": [
             [
              0,
              "#0d0887"
             ],
             [
              0.1111111111111111,
              "#46039f"
             ],
             [
              0.2222222222222222,
              "#7201a8"
             ],
             [
              0.3333333333333333,
              "#9c179e"
             ],
             [
              0.4444444444444444,
              "#bd3786"
             ],
             [
              0.5555555555555556,
              "#d8576b"
             ],
             [
              0.6666666666666666,
              "#ed7953"
             ],
             [
              0.7777777777777778,
              "#fb9f3a"
             ],
             [
              0.8888888888888888,
              "#fdca26"
             ],
             [
              1,
              "#f0f921"
             ]
            ],
            "type": "heatmap"
           }
          ],
          "heatmapgl": [
           {
            "colorbar": {
             "outlinewidth": 0,
             "ticks": ""
            },
            "colorscale": [
             [
              0,
              "#0d0887"
             ],
             [
              0.1111111111111111,
              "#46039f"
             ],
             [
              0.2222222222222222,
              "#7201a8"
             ],
             [
              0.3333333333333333,
              "#9c179e"
             ],
             [
              0.4444444444444444,
              "#bd3786"
             ],
             [
              0.5555555555555556,
              "#d8576b"
             ],
             [
              0.6666666666666666,
              "#ed7953"
             ],
             [
              0.7777777777777778,
              "#fb9f3a"
             ],
             [
              0.8888888888888888,
              "#fdca26"
             ],
             [
              1,
              "#f0f921"
             ]
            ],
            "type": "heatmapgl"
           }
          ],
          "histogram": [
           {
            "marker": {
             "colorbar": {
              "outlinewidth": 0,
              "ticks": ""
             }
            },
            "type": "histogram"
           }
          ],
          "histogram2d": [
           {
            "colorbar": {
             "outlinewidth": 0,
             "ticks": ""
            },
            "colorscale": [
             [
              0,
              "#0d0887"
             ],
             [
              0.1111111111111111,
              "#46039f"
             ],
             [
              0.2222222222222222,
              "#7201a8"
             ],
             [
              0.3333333333333333,
              "#9c179e"
             ],
             [
              0.4444444444444444,
              "#bd3786"
             ],
             [
              0.5555555555555556,
              "#d8576b"
             ],
             [
              0.6666666666666666,
              "#ed7953"
             ],
             [
              0.7777777777777778,
              "#fb9f3a"
             ],
             [
              0.8888888888888888,
              "#fdca26"
             ],
             [
              1,
              "#f0f921"
             ]
            ],
            "type": "histogram2d"
           }
          ],
          "histogram2dcontour": [
           {
            "colorbar": {
             "outlinewidth": 0,
             "ticks": ""
            },
            "colorscale": [
             [
              0,
              "#0d0887"
             ],
             [
              0.1111111111111111,
              "#46039f"
             ],
             [
              0.2222222222222222,
              "#7201a8"
             ],
             [
              0.3333333333333333,
              "#9c179e"
             ],
             [
              0.4444444444444444,
              "#bd3786"
             ],
             [
              0.5555555555555556,
              "#d8576b"
             ],
             [
              0.6666666666666666,
              "#ed7953"
             ],
             [
              0.7777777777777778,
              "#fb9f3a"
             ],
             [
              0.8888888888888888,
              "#fdca26"
             ],
             [
              1,
              "#f0f921"
             ]
            ],
            "type": "histogram2dcontour"
           }
          ],
          "mesh3d": [
           {
            "colorbar": {
             "outlinewidth": 0,
             "ticks": ""
            },
            "type": "mesh3d"
           }
          ],
          "parcoords": [
           {
            "line": {
             "colorbar": {
              "outlinewidth": 0,
              "ticks": ""
             }
            },
            "type": "parcoords"
           }
          ],
          "pie": [
           {
            "automargin": true,
            "type": "pie"
           }
          ],
          "scatter": [
           {
            "marker": {
             "colorbar": {
              "outlinewidth": 0,
              "ticks": ""
             }
            },
            "type": "scatter"
           }
          ],
          "scatter3d": [
           {
            "line": {
             "colorbar": {
              "outlinewidth": 0,
              "ticks": ""
             }
            },
            "marker": {
             "colorbar": {
              "outlinewidth": 0,
              "ticks": ""
             }
            },
            "type": "scatter3d"
           }
          ],
          "scattercarpet": [
           {
            "marker": {
             "colorbar": {
              "outlinewidth": 0,
              "ticks": ""
             }
            },
            "type": "scattercarpet"
           }
          ],
          "scattergeo": [
           {
            "marker": {
             "colorbar": {
              "outlinewidth": 0,
              "ticks": ""
             }
            },
            "type": "scattergeo"
           }
          ],
          "scattergl": [
           {
            "marker": {
             "colorbar": {
              "outlinewidth": 0,
              "ticks": ""
             }
            },
            "type": "scattergl"
           }
          ],
          "scattermapbox": [
           {
            "marker": {
             "colorbar": {
              "outlinewidth": 0,
              "ticks": ""
             }
            },
            "type": "scattermapbox"
           }
          ],
          "scatterpolar": [
           {
            "marker": {
             "colorbar": {
              "outlinewidth": 0,
              "ticks": ""
             }
            },
            "type": "scatterpolar"
           }
          ],
          "scatterpolargl": [
           {
            "marker": {
             "colorbar": {
              "outlinewidth": 0,
              "ticks": ""
             }
            },
            "type": "scatterpolargl"
           }
          ],
          "scatterternary": [
           {
            "marker": {
             "colorbar": {
              "outlinewidth": 0,
              "ticks": ""
             }
            },
            "type": "scatterternary"
           }
          ],
          "surface": [
           {
            "colorbar": {
             "outlinewidth": 0,
             "ticks": ""
            },
            "colorscale": [
             [
              0,
              "#0d0887"
             ],
             [
              0.1111111111111111,
              "#46039f"
             ],
             [
              0.2222222222222222,
              "#7201a8"
             ],
             [
              0.3333333333333333,
              "#9c179e"
             ],
             [
              0.4444444444444444,
              "#bd3786"
             ],
             [
              0.5555555555555556,
              "#d8576b"
             ],
             [
              0.6666666666666666,
              "#ed7953"
             ],
             [
              0.7777777777777778,
              "#fb9f3a"
             ],
             [
              0.8888888888888888,
              "#fdca26"
             ],
             [
              1,
              "#f0f921"
             ]
            ],
            "type": "surface"
           }
          ],
          "table": [
           {
            "cells": {
             "fill": {
              "color": "#EBF0F8"
             },
             "line": {
              "color": "white"
             }
            },
            "header": {
             "fill": {
              "color": "#C8D4E3"
             },
             "line": {
              "color": "white"
             }
            },
            "type": "table"
           }
          ]
         },
         "layout": {
          "annotationdefaults": {
           "arrowcolor": "#2a3f5f",
           "arrowhead": 0,
           "arrowwidth": 1
          },
          "coloraxis": {
           "colorbar": {
            "outlinewidth": 0,
            "ticks": ""
           }
          },
          "colorscale": {
           "diverging": [
            [
             0,
             "#8e0152"
            ],
            [
             0.1,
             "#c51b7d"
            ],
            [
             0.2,
             "#de77ae"
            ],
            [
             0.3,
             "#f1b6da"
            ],
            [
             0.4,
             "#fde0ef"
            ],
            [
             0.5,
             "#f7f7f7"
            ],
            [
             0.6,
             "#e6f5d0"
            ],
            [
             0.7,
             "#b8e186"
            ],
            [
             0.8,
             "#7fbc41"
            ],
            [
             0.9,
             "#4d9221"
            ],
            [
             1,
             "#276419"
            ]
           ],
           "sequential": [
            [
             0,
             "#0d0887"
            ],
            [
             0.1111111111111111,
             "#46039f"
            ],
            [
             0.2222222222222222,
             "#7201a8"
            ],
            [
             0.3333333333333333,
             "#9c179e"
            ],
            [
             0.4444444444444444,
             "#bd3786"
            ],
            [
             0.5555555555555556,
             "#d8576b"
            ],
            [
             0.6666666666666666,
             "#ed7953"
            ],
            [
             0.7777777777777778,
             "#fb9f3a"
            ],
            [
             0.8888888888888888,
             "#fdca26"
            ],
            [
             1,
             "#f0f921"
            ]
           ],
           "sequentialminus": [
            [
             0,
             "#0d0887"
            ],
            [
             0.1111111111111111,
             "#46039f"
            ],
            [
             0.2222222222222222,
             "#7201a8"
            ],
            [
             0.3333333333333333,
             "#9c179e"
            ],
            [
             0.4444444444444444,
             "#bd3786"
            ],
            [
             0.5555555555555556,
             "#d8576b"
            ],
            [
             0.6666666666666666,
             "#ed7953"
            ],
            [
             0.7777777777777778,
             "#fb9f3a"
            ],
            [
             0.8888888888888888,
             "#fdca26"
            ],
            [
             1,
             "#f0f921"
            ]
           ]
          },
          "colorway": [
           "#636efa",
           "#EF553B",
           "#00cc96",
           "#ab63fa",
           "#FFA15A",
           "#19d3f3",
           "#FF6692",
           "#B6E880",
           "#FF97FF",
           "#FECB52"
          ],
          "font": {
           "color": "#2a3f5f"
          },
          "geo": {
           "bgcolor": "white",
           "lakecolor": "white",
           "landcolor": "#E5ECF6",
           "showlakes": true,
           "showland": true,
           "subunitcolor": "white"
          },
          "hoverlabel": {
           "align": "left"
          },
          "hovermode": "closest",
          "mapbox": {
           "style": "light"
          },
          "paper_bgcolor": "white",
          "plot_bgcolor": "#E5ECF6",
          "polar": {
           "angularaxis": {
            "gridcolor": "white",
            "linecolor": "white",
            "ticks": ""
           },
           "bgcolor": "#E5ECF6",
           "radialaxis": {
            "gridcolor": "white",
            "linecolor": "white",
            "ticks": ""
           }
          },
          "scene": {
           "xaxis": {
            "backgroundcolor": "#E5ECF6",
            "gridcolor": "white",
            "gridwidth": 2,
            "linecolor": "white",
            "showbackground": true,
            "ticks": "",
            "zerolinecolor": "white"
           },
           "yaxis": {
            "backgroundcolor": "#E5ECF6",
            "gridcolor": "white",
            "gridwidth": 2,
            "linecolor": "white",
            "showbackground": true,
            "ticks": "",
            "zerolinecolor": "white"
           },
           "zaxis": {
            "backgroundcolor": "#E5ECF6",
            "gridcolor": "white",
            "gridwidth": 2,
            "linecolor": "white",
            "showbackground": true,
            "ticks": "",
            "zerolinecolor": "white"
           }
          },
          "shapedefaults": {
           "line": {
            "color": "#2a3f5f"
           }
          },
          "ternary": {
           "aaxis": {
            "gridcolor": "white",
            "linecolor": "white",
            "ticks": ""
           },
           "baxis": {
            "gridcolor": "white",
            "linecolor": "white",
            "ticks": ""
           },
           "bgcolor": "#E5ECF6",
           "caxis": {
            "gridcolor": "white",
            "linecolor": "white",
            "ticks": ""
           }
          },
          "title": {
           "x": 0.05
          },
          "xaxis": {
           "automargin": true,
           "gridcolor": "white",
           "linecolor": "white",
           "ticks": "",
           "title": {
            "standoff": 15
           },
           "zerolinecolor": "white",
           "zerolinewidth": 2
          },
          "yaxis": {
           "automargin": true,
           "gridcolor": "white",
           "linecolor": "white",
           "ticks": "",
           "title": {
            "standoff": 15
           },
           "zerolinecolor": "white",
           "zerolinewidth": 2
          }
         }
        }
       }
      }
     },
     "metadata": {}
    }
   ],
   "source": [
    "labels = df1_mid['Secondary Strata Name']\n",
    "values = df1_mid['Percent']\n",
    "fig = go.Figure(data=[go.Pie(labels=labels, values=values)])\n",
    "fig.show()"
   ]
  },
  {
   "cell_type": "code",
   "execution_count": 85,
   "metadata": {},
   "outputs": [
    {
     "output_type": "display_data",
     "data": {
      "application/vnd.plotly.v1+json": {
       "config": {
        "plotlyServerURL": "https://plot.ly"
       },
       "data": [
        {
         "hole": 0.5,
         "labels": [
          "White",
          "Black",
          "Hispanic/Latino",
          "Asian/Pacific Islander",
          "American Indian/Alaska Native",
          "Other"
         ],
         "title": {
          "text": "Mid-Age Patients"
         },
         "type": "pie",
         "values": [
          27.8,
          37.1,
          21,
          4.9,
          2,
          14.1
         ]
        }
       ],
       "layout": {
        "template": {
         "data": {
          "bar": [
           {
            "error_x": {
             "color": "#2a3f5f"
            },
            "error_y": {
             "color": "#2a3f5f"
            },
            "marker": {
             "line": {
              "color": "#E5ECF6",
              "width": 0.5
             }
            },
            "type": "bar"
           }
          ],
          "barpolar": [
           {
            "marker": {
             "line": {
              "color": "#E5ECF6",
              "width": 0.5
             }
            },
            "type": "barpolar"
           }
          ],
          "carpet": [
           {
            "aaxis": {
             "endlinecolor": "#2a3f5f",
             "gridcolor": "white",
             "linecolor": "white",
             "minorgridcolor": "white",
             "startlinecolor": "#2a3f5f"
            },
            "baxis": {
             "endlinecolor": "#2a3f5f",
             "gridcolor": "white",
             "linecolor": "white",
             "minorgridcolor": "white",
             "startlinecolor": "#2a3f5f"
            },
            "type": "carpet"
           }
          ],
          "choropleth": [
           {
            "colorbar": {
             "outlinewidth": 0,
             "ticks": ""
            },
            "type": "choropleth"
           }
          ],
          "contour": [
           {
            "colorbar": {
             "outlinewidth": 0,
             "ticks": ""
            },
            "colorscale": [
             [
              0,
              "#0d0887"
             ],
             [
              0.1111111111111111,
              "#46039f"
             ],
             [
              0.2222222222222222,
              "#7201a8"
             ],
             [
              0.3333333333333333,
              "#9c179e"
             ],
             [
              0.4444444444444444,
              "#bd3786"
             ],
             [
              0.5555555555555556,
              "#d8576b"
             ],
             [
              0.6666666666666666,
              "#ed7953"
             ],
             [
              0.7777777777777778,
              "#fb9f3a"
             ],
             [
              0.8888888888888888,
              "#fdca26"
             ],
             [
              1,
              "#f0f921"
             ]
            ],
            "type": "contour"
           }
          ],
          "contourcarpet": [
           {
            "colorbar": {
             "outlinewidth": 0,
             "ticks": ""
            },
            "type": "contourcarpet"
           }
          ],
          "heatmap": [
           {
            "colorbar": {
             "outlinewidth": 0,
             "ticks": ""
            },
            "colorscale": [
             [
              0,
              "#0d0887"
             ],
             [
              0.1111111111111111,
              "#46039f"
             ],
             [
              0.2222222222222222,
              "#7201a8"
             ],
             [
              0.3333333333333333,
              "#9c179e"
             ],
             [
              0.4444444444444444,
              "#bd3786"
             ],
             [
              0.5555555555555556,
              "#d8576b"
             ],
             [
              0.6666666666666666,
              "#ed7953"
             ],
             [
              0.7777777777777778,
              "#fb9f3a"
             ],
             [
              0.8888888888888888,
              "#fdca26"
             ],
             [
              1,
              "#f0f921"
             ]
            ],
            "type": "heatmap"
           }
          ],
          "heatmapgl": [
           {
            "colorbar": {
             "outlinewidth": 0,
             "ticks": ""
            },
            "colorscale": [
             [
              0,
              "#0d0887"
             ],
             [
              0.1111111111111111,
              "#46039f"
             ],
             [
              0.2222222222222222,
              "#7201a8"
             ],
             [
              0.3333333333333333,
              "#9c179e"
             ],
             [
              0.4444444444444444,
              "#bd3786"
             ],
             [
              0.5555555555555556,
              "#d8576b"
             ],
             [
              0.6666666666666666,
              "#ed7953"
             ],
             [
              0.7777777777777778,
              "#fb9f3a"
             ],
             [
              0.8888888888888888,
              "#fdca26"
             ],
             [
              1,
              "#f0f921"
             ]
            ],
            "type": "heatmapgl"
           }
          ],
          "histogram": [
           {
            "marker": {
             "colorbar": {
              "outlinewidth": 0,
              "ticks": ""
             }
            },
            "type": "histogram"
           }
          ],
          "histogram2d": [
           {
            "colorbar": {
             "outlinewidth": 0,
             "ticks": ""
            },
            "colorscale": [
             [
              0,
              "#0d0887"
             ],
             [
              0.1111111111111111,
              "#46039f"
             ],
             [
              0.2222222222222222,
              "#7201a8"
             ],
             [
              0.3333333333333333,
              "#9c179e"
             ],
             [
              0.4444444444444444,
              "#bd3786"
             ],
             [
              0.5555555555555556,
              "#d8576b"
             ],
             [
              0.6666666666666666,
              "#ed7953"
             ],
             [
              0.7777777777777778,
              "#fb9f3a"
             ],
             [
              0.8888888888888888,
              "#fdca26"
             ],
             [
              1,
              "#f0f921"
             ]
            ],
            "type": "histogram2d"
           }
          ],
          "histogram2dcontour": [
           {
            "colorbar": {
             "outlinewidth": 0,
             "ticks": ""
            },
            "colorscale": [
             [
              0,
              "#0d0887"
             ],
             [
              0.1111111111111111,
              "#46039f"
             ],
             [
              0.2222222222222222,
              "#7201a8"
             ],
             [
              0.3333333333333333,
              "#9c179e"
             ],
             [
              0.4444444444444444,
              "#bd3786"
             ],
             [
              0.5555555555555556,
              "#d8576b"
             ],
             [
              0.6666666666666666,
              "#ed7953"
             ],
             [
              0.7777777777777778,
              "#fb9f3a"
             ],
             [
              0.8888888888888888,
              "#fdca26"
             ],
             [
              1,
              "#f0f921"
             ]
            ],
            "type": "histogram2dcontour"
           }
          ],
          "mesh3d": [
           {
            "colorbar": {
             "outlinewidth": 0,
             "ticks": ""
            },
            "type": "mesh3d"
           }
          ],
          "parcoords": [
           {
            "line": {
             "colorbar": {
              "outlinewidth": 0,
              "ticks": ""
             }
            },
            "type": "parcoords"
           }
          ],
          "pie": [
           {
            "automargin": true,
            "type": "pie"
           }
          ],
          "scatter": [
           {
            "marker": {
             "colorbar": {
              "outlinewidth": 0,
              "ticks": ""
             }
            },
            "type": "scatter"
           }
          ],
          "scatter3d": [
           {
            "line": {
             "colorbar": {
              "outlinewidth": 0,
              "ticks": ""
             }
            },
            "marker": {
             "colorbar": {
              "outlinewidth": 0,
              "ticks": ""
             }
            },
            "type": "scatter3d"
           }
          ],
          "scattercarpet": [
           {
            "marker": {
             "colorbar": {
              "outlinewidth": 0,
              "ticks": ""
             }
            },
            "type": "scattercarpet"
           }
          ],
          "scattergeo": [
           {
            "marker": {
             "colorbar": {
              "outlinewidth": 0,
              "ticks": ""
             }
            },
            "type": "scattergeo"
           }
          ],
          "scattergl": [
           {
            "marker": {
             "colorbar": {
              "outlinewidth": 0,
              "ticks": ""
             }
            },
            "type": "scattergl"
           }
          ],
          "scattermapbox": [
           {
            "marker": {
             "colorbar": {
              "outlinewidth": 0,
              "ticks": ""
             }
            },
            "type": "scattermapbox"
           }
          ],
          "scatterpolar": [
           {
            "marker": {
             "colorbar": {
              "outlinewidth": 0,
              "ticks": ""
             }
            },
            "type": "scatterpolar"
           }
          ],
          "scatterpolargl": [
           {
            "marker": {
             "colorbar": {
              "outlinewidth": 0,
              "ticks": ""
             }
            },
            "type": "scatterpolargl"
           }
          ],
          "scatterternary": [
           {
            "marker": {
             "colorbar": {
              "outlinewidth": 0,
              "ticks": ""
             }
            },
            "type": "scatterternary"
           }
          ],
          "surface": [
           {
            "colorbar": {
             "outlinewidth": 0,
             "ticks": ""
            },
            "colorscale": [
             [
              0,
              "#0d0887"
             ],
             [
              0.1111111111111111,
              "#46039f"
             ],
             [
              0.2222222222222222,
              "#7201a8"
             ],
             [
              0.3333333333333333,
              "#9c179e"
             ],
             [
              0.4444444444444444,
              "#bd3786"
             ],
             [
              0.5555555555555556,
              "#d8576b"
             ],
             [
              0.6666666666666666,
              "#ed7953"
             ],
             [
              0.7777777777777778,
              "#fb9f3a"
             ],
             [
              0.8888888888888888,
              "#fdca26"
             ],
             [
              1,
              "#f0f921"
             ]
            ],
            "type": "surface"
           }
          ],
          "table": [
           {
            "cells": {
             "fill": {
              "color": "#EBF0F8"
             },
             "line": {
              "color": "white"
             }
            },
            "header": {
             "fill": {
              "color": "#C8D4E3"
             },
             "line": {
              "color": "white"
             }
            },
            "type": "table"
           }
          ]
         },
         "layout": {
          "annotationdefaults": {
           "arrowcolor": "#2a3f5f",
           "arrowhead": 0,
           "arrowwidth": 1
          },
          "coloraxis": {
           "colorbar": {
            "outlinewidth": 0,
            "ticks": ""
           }
          },
          "colorscale": {
           "diverging": [
            [
             0,
             "#8e0152"
            ],
            [
             0.1,
             "#c51b7d"
            ],
            [
             0.2,
             "#de77ae"
            ],
            [
             0.3,
             "#f1b6da"
            ],
            [
             0.4,
             "#fde0ef"
            ],
            [
             0.5,
             "#f7f7f7"
            ],
            [
             0.6,
             "#e6f5d0"
            ],
            [
             0.7,
             "#b8e186"
            ],
            [
             0.8,
             "#7fbc41"
            ],
            [
             0.9,
             "#4d9221"
            ],
            [
             1,
             "#276419"
            ]
           ],
           "sequential": [
            [
             0,
             "#0d0887"
            ],
            [
             0.1111111111111111,
             "#46039f"
            ],
            [
             0.2222222222222222,
             "#7201a8"
            ],
            [
             0.3333333333333333,
             "#9c179e"
            ],
            [
             0.4444444444444444,
             "#bd3786"
            ],
            [
             0.5555555555555556,
             "#d8576b"
            ],
            [
             0.6666666666666666,
             "#ed7953"
            ],
            [
             0.7777777777777778,
             "#fb9f3a"
            ],
            [
             0.8888888888888888,
             "#fdca26"
            ],
            [
             1,
             "#f0f921"
            ]
           ],
           "sequentialminus": [
            [
             0,
             "#0d0887"
            ],
            [
             0.1111111111111111,
             "#46039f"
            ],
            [
             0.2222222222222222,
             "#7201a8"
            ],
            [
             0.3333333333333333,
             "#9c179e"
            ],
            [
             0.4444444444444444,
             "#bd3786"
            ],
            [
             0.5555555555555556,
             "#d8576b"
            ],
            [
             0.6666666666666666,
             "#ed7953"
            ],
            [
             0.7777777777777778,
             "#fb9f3a"
            ],
            [
             0.8888888888888888,
             "#fdca26"
            ],
            [
             1,
             "#f0f921"
            ]
           ]
          },
          "colorway": [
           "#636efa",
           "#EF553B",
           "#00cc96",
           "#ab63fa",
           "#FFA15A",
           "#19d3f3",
           "#FF6692",
           "#B6E880",
           "#FF97FF",
           "#FECB52"
          ],
          "font": {
           "color": "#2a3f5f"
          },
          "geo": {
           "bgcolor": "white",
           "lakecolor": "white",
           "landcolor": "#E5ECF6",
           "showlakes": true,
           "showland": true,
           "subunitcolor": "white"
          },
          "hoverlabel": {
           "align": "left"
          },
          "hovermode": "closest",
          "mapbox": {
           "style": "light"
          },
          "paper_bgcolor": "white",
          "plot_bgcolor": "#E5ECF6",
          "polar": {
           "angularaxis": {
            "gridcolor": "white",
            "linecolor": "white",
            "ticks": ""
           },
           "bgcolor": "#E5ECF6",
           "radialaxis": {
            "gridcolor": "white",
            "linecolor": "white",
            "ticks": ""
           }
          },
          "scene": {
           "xaxis": {
            "backgroundcolor": "#E5ECF6",
            "gridcolor": "white",
            "gridwidth": 2,
            "linecolor": "white",
            "showbackground": true,
            "ticks": "",
            "zerolinecolor": "white"
           },
           "yaxis": {
            "backgroundcolor": "#E5ECF6",
            "gridcolor": "white",
            "gridwidth": 2,
            "linecolor": "white",
            "showbackground": true,
            "ticks": "",
            "zerolinecolor": "white"
           },
           "zaxis": {
            "backgroundcolor": "#E5ECF6",
            "gridcolor": "white",
            "gridwidth": 2,
            "linecolor": "white",
            "showbackground": true,
            "ticks": "",
            "zerolinecolor": "white"
           }
          },
          "shapedefaults": {
           "line": {
            "color": "#2a3f5f"
           }
          },
          "ternary": {
           "aaxis": {
            "gridcolor": "white",
            "linecolor": "white",
            "ticks": ""
           },
           "baxis": {
            "gridcolor": "white",
            "linecolor": "white",
            "ticks": ""
           },
           "bgcolor": "#E5ECF6",
           "caxis": {
            "gridcolor": "white",
            "linecolor": "white",
            "ticks": ""
           }
          },
          "title": {
           "x": 0.05
          },
          "xaxis": {
           "automargin": true,
           "gridcolor": "white",
           "linecolor": "white",
           "ticks": "",
           "title": {
            "standoff": 15
           },
           "zerolinecolor": "white",
           "zerolinewidth": 2
          },
          "yaxis": {
           "automargin": true,
           "gridcolor": "white",
           "linecolor": "white",
           "ticks": "",
           "title": {
            "standoff": 15
           },
           "zerolinecolor": "white",
           "zerolinewidth": 2
          }
         }
        }
       }
      }
     },
     "metadata": {}
    }
   ],
   "source": [
    "labels = df1_mid['Secondary Strata Name']\n",
    "values = df1_mid['Percent']\n",
    "fig = go.Figure(data=[go.Pie(labels=labels, values=values, title='Mid-Age Patients',hole=0.5)])\n",
    "fig.show()"
   ]
  },
  {
   "cell_type": "code",
   "execution_count": 86,
   "metadata": {},
   "outputs": [
    {
     "output_type": "display_data",
     "data": {
      "application/vnd.plotly.v1+json": {
       "config": {
        "plotlyServerURL": "https://plot.ly"
       },
       "data": [
        {
         "hole": 0.5,
         "labels": [
          "White",
          "Black",
          "Hispanic/Latino",
          "Asian/Pacific Islander",
          "American Indian/Alaska Native",
          "Other"
         ],
         "title": {
          "text": "Young Patients"
         },
         "type": "pie",
         "values": [
          16.6,
          28.9,
          39.7,
          5.3,
          2.5,
          14.8
         ]
        }
       ],
       "layout": {
        "template": {
         "data": {
          "bar": [
           {
            "error_x": {
             "color": "#2a3f5f"
            },
            "error_y": {
             "color": "#2a3f5f"
            },
            "marker": {
             "line": {
              "color": "#E5ECF6",
              "width": 0.5
             }
            },
            "type": "bar"
           }
          ],
          "barpolar": [
           {
            "marker": {
             "line": {
              "color": "#E5ECF6",
              "width": 0.5
             }
            },
            "type": "barpolar"
           }
          ],
          "carpet": [
           {
            "aaxis": {
             "endlinecolor": "#2a3f5f",
             "gridcolor": "white",
             "linecolor": "white",
             "minorgridcolor": "white",
             "startlinecolor": "#2a3f5f"
            },
            "baxis": {
             "endlinecolor": "#2a3f5f",
             "gridcolor": "white",
             "linecolor": "white",
             "minorgridcolor": "white",
             "startlinecolor": "#2a3f5f"
            },
            "type": "carpet"
           }
          ],
          "choropleth": [
           {
            "colorbar": {
             "outlinewidth": 0,
             "ticks": ""
            },
            "type": "choropleth"
           }
          ],
          "contour": [
           {
            "colorbar": {
             "outlinewidth": 0,
             "ticks": ""
            },
            "colorscale": [
             [
              0,
              "#0d0887"
             ],
             [
              0.1111111111111111,
              "#46039f"
             ],
             [
              0.2222222222222222,
              "#7201a8"
             ],
             [
              0.3333333333333333,
              "#9c179e"
             ],
             [
              0.4444444444444444,
              "#bd3786"
             ],
             [
              0.5555555555555556,
              "#d8576b"
             ],
             [
              0.6666666666666666,
              "#ed7953"
             ],
             [
              0.7777777777777778,
              "#fb9f3a"
             ],
             [
              0.8888888888888888,
              "#fdca26"
             ],
             [
              1,
              "#f0f921"
             ]
            ],
            "type": "contour"
           }
          ],
          "contourcarpet": [
           {
            "colorbar": {
             "outlinewidth": 0,
             "ticks": ""
            },
            "type": "contourcarpet"
           }
          ],
          "heatmap": [
           {
            "colorbar": {
             "outlinewidth": 0,
             "ticks": ""
            },
            "colorscale": [
             [
              0,
              "#0d0887"
             ],
             [
              0.1111111111111111,
              "#46039f"
             ],
             [
              0.2222222222222222,
              "#7201a8"
             ],
             [
              0.3333333333333333,
              "#9c179e"
             ],
             [
              0.4444444444444444,
              "#bd3786"
             ],
             [
              0.5555555555555556,
              "#d8576b"
             ],
             [
              0.6666666666666666,
              "#ed7953"
             ],
             [
              0.7777777777777778,
              "#fb9f3a"
             ],
             [
              0.8888888888888888,
              "#fdca26"
             ],
             [
              1,
              "#f0f921"
             ]
            ],
            "type": "heatmap"
           }
          ],
          "heatmapgl": [
           {
            "colorbar": {
             "outlinewidth": 0,
             "ticks": ""
            },
            "colorscale": [
             [
              0,
              "#0d0887"
             ],
             [
              0.1111111111111111,
              "#46039f"
             ],
             [
              0.2222222222222222,
              "#7201a8"
             ],
             [
              0.3333333333333333,
              "#9c179e"
             ],
             [
              0.4444444444444444,
              "#bd3786"
             ],
             [
              0.5555555555555556,
              "#d8576b"
             ],
             [
              0.6666666666666666,
              "#ed7953"
             ],
             [
              0.7777777777777778,
              "#fb9f3a"
             ],
             [
              0.8888888888888888,
              "#fdca26"
             ],
             [
              1,
              "#f0f921"
             ]
            ],
            "type": "heatmapgl"
           }
          ],
          "histogram": [
           {
            "marker": {
             "colorbar": {
              "outlinewidth": 0,
              "ticks": ""
             }
            },
            "type": "histogram"
           }
          ],
          "histogram2d": [
           {
            "colorbar": {
             "outlinewidth": 0,
             "ticks": ""
            },
            "colorscale": [
             [
              0,
              "#0d0887"
             ],
             [
              0.1111111111111111,
              "#46039f"
             ],
             [
              0.2222222222222222,
              "#7201a8"
             ],
             [
              0.3333333333333333,
              "#9c179e"
             ],
             [
              0.4444444444444444,
              "#bd3786"
             ],
             [
              0.5555555555555556,
              "#d8576b"
             ],
             [
              0.6666666666666666,
              "#ed7953"
             ],
             [
              0.7777777777777778,
              "#fb9f3a"
             ],
             [
              0.8888888888888888,
              "#fdca26"
             ],
             [
              1,
              "#f0f921"
             ]
            ],
            "type": "histogram2d"
           }
          ],
          "histogram2dcontour": [
           {
            "colorbar": {
             "outlinewidth": 0,
             "ticks": ""
            },
            "colorscale": [
             [
              0,
              "#0d0887"
             ],
             [
              0.1111111111111111,
              "#46039f"
             ],
             [
              0.2222222222222222,
              "#7201a8"
             ],
             [
              0.3333333333333333,
              "#9c179e"
             ],
             [
              0.4444444444444444,
              "#bd3786"
             ],
             [
              0.5555555555555556,
              "#d8576b"
             ],
             [
              0.6666666666666666,
              "#ed7953"
             ],
             [
              0.7777777777777778,
              "#fb9f3a"
             ],
             [
              0.8888888888888888,
              "#fdca26"
             ],
             [
              1,
              "#f0f921"
             ]
            ],
            "type": "histogram2dcontour"
           }
          ],
          "mesh3d": [
           {
            "colorbar": {
             "outlinewidth": 0,
             "ticks": ""
            },
            "type": "mesh3d"
           }
          ],
          "parcoords": [
           {
            "line": {
             "colorbar": {
              "outlinewidth": 0,
              "ticks": ""
             }
            },
            "type": "parcoords"
           }
          ],
          "pie": [
           {
            "automargin": true,
            "type": "pie"
           }
          ],
          "scatter": [
           {
            "marker": {
             "colorbar": {
              "outlinewidth": 0,
              "ticks": ""
             }
            },
            "type": "scatter"
           }
          ],
          "scatter3d": [
           {
            "line": {
             "colorbar": {
              "outlinewidth": 0,
              "ticks": ""
             }
            },
            "marker": {
             "colorbar": {
              "outlinewidth": 0,
              "ticks": ""
             }
            },
            "type": "scatter3d"
           }
          ],
          "scattercarpet": [
           {
            "marker": {
             "colorbar": {
              "outlinewidth": 0,
              "ticks": ""
             }
            },
            "type": "scattercarpet"
           }
          ],
          "scattergeo": [
           {
            "marker": {
             "colorbar": {
              "outlinewidth": 0,
              "ticks": ""
             }
            },
            "type": "scattergeo"
           }
          ],
          "scattergl": [
           {
            "marker": {
             "colorbar": {
              "outlinewidth": 0,
              "ticks": ""
             }
            },
            "type": "scattergl"
           }
          ],
          "scattermapbox": [
           {
            "marker": {
             "colorbar": {
              "outlinewidth": 0,
              "ticks": ""
             }
            },
            "type": "scattermapbox"
           }
          ],
          "scatterpolar": [
           {
            "marker": {
             "colorbar": {
              "outlinewidth": 0,
              "ticks": ""
             }
            },
            "type": "scatterpolar"
           }
          ],
          "scatterpolargl": [
           {
            "marker": {
             "colorbar": {
              "outlinewidth": 0,
              "ticks": ""
             }
            },
            "type": "scatterpolargl"
           }
          ],
          "scatterternary": [
           {
            "marker": {
             "colorbar": {
              "outlinewidth": 0,
              "ticks": ""
             }
            },
            "type": "scatterternary"
           }
          ],
          "surface": [
           {
            "colorbar": {
             "outlinewidth": 0,
             "ticks": ""
            },
            "colorscale": [
             [
              0,
              "#0d0887"
             ],
             [
              0.1111111111111111,
              "#46039f"
             ],
             [
              0.2222222222222222,
              "#7201a8"
             ],
             [
              0.3333333333333333,
              "#9c179e"
             ],
             [
              0.4444444444444444,
              "#bd3786"
             ],
             [
              0.5555555555555556,
              "#d8576b"
             ],
             [
              0.6666666666666666,
              "#ed7953"
             ],
             [
              0.7777777777777778,
              "#fb9f3a"
             ],
             [
              0.8888888888888888,
              "#fdca26"
             ],
             [
              1,
              "#f0f921"
             ]
            ],
            "type": "surface"
           }
          ],
          "table": [
           {
            "cells": {
             "fill": {
              "color": "#EBF0F8"
             },
             "line": {
              "color": "white"
             }
            },
            "header": {
             "fill": {
              "color": "#C8D4E3"
             },
             "line": {
              "color": "white"
             }
            },
            "type": "table"
           }
          ]
         },
         "layout": {
          "annotationdefaults": {
           "arrowcolor": "#2a3f5f",
           "arrowhead": 0,
           "arrowwidth": 1
          },
          "coloraxis": {
           "colorbar": {
            "outlinewidth": 0,
            "ticks": ""
           }
          },
          "colorscale": {
           "diverging": [
            [
             0,
             "#8e0152"
            ],
            [
             0.1,
             "#c51b7d"
            ],
            [
             0.2,
             "#de77ae"
            ],
            [
             0.3,
             "#f1b6da"
            ],
            [
             0.4,
             "#fde0ef"
            ],
            [
             0.5,
             "#f7f7f7"
            ],
            [
             0.6,
             "#e6f5d0"
            ],
            [
             0.7,
             "#b8e186"
            ],
            [
             0.8,
             "#7fbc41"
            ],
            [
             0.9,
             "#4d9221"
            ],
            [
             1,
             "#276419"
            ]
           ],
           "sequential": [
            [
             0,
             "#0d0887"
            ],
            [
             0.1111111111111111,
             "#46039f"
            ],
            [
             0.2222222222222222,
             "#7201a8"
            ],
            [
             0.3333333333333333,
             "#9c179e"
            ],
            [
             0.4444444444444444,
             "#bd3786"
            ],
            [
             0.5555555555555556,
             "#d8576b"
            ],
            [
             0.6666666666666666,
             "#ed7953"
            ],
            [
             0.7777777777777778,
             "#fb9f3a"
            ],
            [
             0.8888888888888888,
             "#fdca26"
            ],
            [
             1,
             "#f0f921"
            ]
           ],
           "sequentialminus": [
            [
             0,
             "#0d0887"
            ],
            [
             0.1111111111111111,
             "#46039f"
            ],
            [
             0.2222222222222222,
             "#7201a8"
            ],
            [
             0.3333333333333333,
             "#9c179e"
            ],
            [
             0.4444444444444444,
             "#bd3786"
            ],
            [
             0.5555555555555556,
             "#d8576b"
            ],
            [
             0.6666666666666666,
             "#ed7953"
            ],
            [
             0.7777777777777778,
             "#fb9f3a"
            ],
            [
             0.8888888888888888,
             "#fdca26"
            ],
            [
             1,
             "#f0f921"
            ]
           ]
          },
          "colorway": [
           "#636efa",
           "#EF553B",
           "#00cc96",
           "#ab63fa",
           "#FFA15A",
           "#19d3f3",
           "#FF6692",
           "#B6E880",
           "#FF97FF",
           "#FECB52"
          ],
          "font": {
           "color": "#2a3f5f"
          },
          "geo": {
           "bgcolor": "white",
           "lakecolor": "white",
           "landcolor": "#E5ECF6",
           "showlakes": true,
           "showland": true,
           "subunitcolor": "white"
          },
          "hoverlabel": {
           "align": "left"
          },
          "hovermode": "closest",
          "mapbox": {
           "style": "light"
          },
          "paper_bgcolor": "white",
          "plot_bgcolor": "#E5ECF6",
          "polar": {
           "angularaxis": {
            "gridcolor": "white",
            "linecolor": "white",
            "ticks": ""
           },
           "bgcolor": "#E5ECF6",
           "radialaxis": {
            "gridcolor": "white",
            "linecolor": "white",
            "ticks": ""
           }
          },
          "scene": {
           "xaxis": {
            "backgroundcolor": "#E5ECF6",
            "gridcolor": "white",
            "gridwidth": 2,
            "linecolor": "white",
            "showbackground": true,
            "ticks": "",
            "zerolinecolor": "white"
           },
           "yaxis": {
            "backgroundcolor": "#E5ECF6",
            "gridcolor": "white",
            "gridwidth": 2,
            "linecolor": "white",
            "showbackground": true,
            "ticks": "",
            "zerolinecolor": "white"
           },
           "zaxis": {
            "backgroundcolor": "#E5ECF6",
            "gridcolor": "white",
            "gridwidth": 2,
            "linecolor": "white",
            "showbackground": true,
            "ticks": "",
            "zerolinecolor": "white"
           }
          },
          "shapedefaults": {
           "line": {
            "color": "#2a3f5f"
           }
          },
          "ternary": {
           "aaxis": {
            "gridcolor": "white",
            "linecolor": "white",
            "ticks": ""
           },
           "baxis": {
            "gridcolor": "white",
            "linecolor": "white",
            "ticks": ""
           },
           "bgcolor": "#E5ECF6",
           "caxis": {
            "gridcolor": "white",
            "linecolor": "white",
            "ticks": ""
           }
          },
          "title": {
           "x": 0.05
          },
          "xaxis": {
           "automargin": true,
           "gridcolor": "white",
           "linecolor": "white",
           "ticks": "",
           "title": {
            "standoff": 15
           },
           "zerolinecolor": "white",
           "zerolinewidth": 2
          },
          "yaxis": {
           "automargin": true,
           "gridcolor": "white",
           "linecolor": "white",
           "ticks": "",
           "title": {
            "standoff": 15
           },
           "zerolinecolor": "white",
           "zerolinewidth": 2
          }
         }
        }
       }
      }
     },
     "metadata": {}
    }
   ],
   "source": [
    "labels = df1_young['Secondary Strata Name']\n",
    "values = df1_young['Percent']\n",
    "fig = go.Figure(data=[go.Pie(labels=labels, values=values, title='Young Patients', hole=0.5)])\n",
    "fig.show()"
   ]
  },
  {
   "cell_type": "code",
   "execution_count": 87,
   "metadata": {},
   "outputs": [
    {
     "output_type": "display_data",
     "data": {
      "application/vnd.plotly.v1+json": {
       "config": {
        "plotlyServerURL": "https://plot.ly"
       },
       "data": [
        {
         "hole": 0.5,
         "labels": [
          "White",
          "Black",
          "Hispanic/Latino",
          "Asian/Pacific Islander",
          "American Indian/Alaska Native",
          "Other"
         ],
         "title": {
          "text": "Older Patients"
         },
         "type": "pie",
         "values": [
          48.8,
          31.4,
          8.7,
          4.2,
          0.9,
          11.2
         ]
        }
       ],
       "layout": {
        "template": {
         "data": {
          "bar": [
           {
            "error_x": {
             "color": "#2a3f5f"
            },
            "error_y": {
             "color": "#2a3f5f"
            },
            "marker": {
             "line": {
              "color": "#E5ECF6",
              "width": 0.5
             }
            },
            "type": "bar"
           }
          ],
          "barpolar": [
           {
            "marker": {
             "line": {
              "color": "#E5ECF6",
              "width": 0.5
             }
            },
            "type": "barpolar"
           }
          ],
          "carpet": [
           {
            "aaxis": {
             "endlinecolor": "#2a3f5f",
             "gridcolor": "white",
             "linecolor": "white",
             "minorgridcolor": "white",
             "startlinecolor": "#2a3f5f"
            },
            "baxis": {
             "endlinecolor": "#2a3f5f",
             "gridcolor": "white",
             "linecolor": "white",
             "minorgridcolor": "white",
             "startlinecolor": "#2a3f5f"
            },
            "type": "carpet"
           }
          ],
          "choropleth": [
           {
            "colorbar": {
             "outlinewidth": 0,
             "ticks": ""
            },
            "type": "choropleth"
           }
          ],
          "contour": [
           {
            "colorbar": {
             "outlinewidth": 0,
             "ticks": ""
            },
            "colorscale": [
             [
              0,
              "#0d0887"
             ],
             [
              0.1111111111111111,
              "#46039f"
             ],
             [
              0.2222222222222222,
              "#7201a8"
             ],
             [
              0.3333333333333333,
              "#9c179e"
             ],
             [
              0.4444444444444444,
              "#bd3786"
             ],
             [
              0.5555555555555556,
              "#d8576b"
             ],
             [
              0.6666666666666666,
              "#ed7953"
             ],
             [
              0.7777777777777778,
              "#fb9f3a"
             ],
             [
              0.8888888888888888,
              "#fdca26"
             ],
             [
              1,
              "#f0f921"
             ]
            ],
            "type": "contour"
           }
          ],
          "contourcarpet": [
           {
            "colorbar": {
             "outlinewidth": 0,
             "ticks": ""
            },
            "type": "contourcarpet"
           }
          ],
          "heatmap": [
           {
            "colorbar": {
             "outlinewidth": 0,
             "ticks": ""
            },
            "colorscale": [
             [
              0,
              "#0d0887"
             ],
             [
              0.1111111111111111,
              "#46039f"
             ],
             [
              0.2222222222222222,
              "#7201a8"
             ],
             [
              0.3333333333333333,
              "#9c179e"
             ],
             [
              0.4444444444444444,
              "#bd3786"
             ],
             [
              0.5555555555555556,
              "#d8576b"
             ],
             [
              0.6666666666666666,
              "#ed7953"
             ],
             [
              0.7777777777777778,
              "#fb9f3a"
             ],
             [
              0.8888888888888888,
              "#fdca26"
             ],
             [
              1,
              "#f0f921"
             ]
            ],
            "type": "heatmap"
           }
          ],
          "heatmapgl": [
           {
            "colorbar": {
             "outlinewidth": 0,
             "ticks": ""
            },
            "colorscale": [
             [
              0,
              "#0d0887"
             ],
             [
              0.1111111111111111,
              "#46039f"
             ],
             [
              0.2222222222222222,
              "#7201a8"
             ],
             [
              0.3333333333333333,
              "#9c179e"
             ],
             [
              0.4444444444444444,
              "#bd3786"
             ],
             [
              0.5555555555555556,
              "#d8576b"
             ],
             [
              0.6666666666666666,
              "#ed7953"
             ],
             [
              0.7777777777777778,
              "#fb9f3a"
             ],
             [
              0.8888888888888888,
              "#fdca26"
             ],
             [
              1,
              "#f0f921"
             ]
            ],
            "type": "heatmapgl"
           }
          ],
          "histogram": [
           {
            "marker": {
             "colorbar": {
              "outlinewidth": 0,
              "ticks": ""
             }
            },
            "type": "histogram"
           }
          ],
          "histogram2d": [
           {
            "colorbar": {
             "outlinewidth": 0,
             "ticks": ""
            },
            "colorscale": [
             [
              0,
              "#0d0887"
             ],
             [
              0.1111111111111111,
              "#46039f"
             ],
             [
              0.2222222222222222,
              "#7201a8"
             ],
             [
              0.3333333333333333,
              "#9c179e"
             ],
             [
              0.4444444444444444,
              "#bd3786"
             ],
             [
              0.5555555555555556,
              "#d8576b"
             ],
             [
              0.6666666666666666,
              "#ed7953"
             ],
             [
              0.7777777777777778,
              "#fb9f3a"
             ],
             [
              0.8888888888888888,
              "#fdca26"
             ],
             [
              1,
              "#f0f921"
             ]
            ],
            "type": "histogram2d"
           }
          ],
          "histogram2dcontour": [
           {
            "colorbar": {
             "outlinewidth": 0,
             "ticks": ""
            },
            "colorscale": [
             [
              0,
              "#0d0887"
             ],
             [
              0.1111111111111111,
              "#46039f"
             ],
             [
              0.2222222222222222,
              "#7201a8"
             ],
             [
              0.3333333333333333,
              "#9c179e"
             ],
             [
              0.4444444444444444,
              "#bd3786"
             ],
             [
              0.5555555555555556,
              "#d8576b"
             ],
             [
              0.6666666666666666,
              "#ed7953"
             ],
             [
              0.7777777777777778,
              "#fb9f3a"
             ],
             [
              0.8888888888888888,
              "#fdca26"
             ],
             [
              1,
              "#f0f921"
             ]
            ],
            "type": "histogram2dcontour"
           }
          ],
          "mesh3d": [
           {
            "colorbar": {
             "outlinewidth": 0,
             "ticks": ""
            },
            "type": "mesh3d"
           }
          ],
          "parcoords": [
           {
            "line": {
             "colorbar": {
              "outlinewidth": 0,
              "ticks": ""
             }
            },
            "type": "parcoords"
           }
          ],
          "pie": [
           {
            "automargin": true,
            "type": "pie"
           }
          ],
          "scatter": [
           {
            "marker": {
             "colorbar": {
              "outlinewidth": 0,
              "ticks": ""
             }
            },
            "type": "scatter"
           }
          ],
          "scatter3d": [
           {
            "line": {
             "colorbar": {
              "outlinewidth": 0,
              "ticks": ""
             }
            },
            "marker": {
             "colorbar": {
              "outlinewidth": 0,
              "ticks": ""
             }
            },
            "type": "scatter3d"
           }
          ],
          "scattercarpet": [
           {
            "marker": {
             "colorbar": {
              "outlinewidth": 0,
              "ticks": ""
             }
            },
            "type": "scattercarpet"
           }
          ],
          "scattergeo": [
           {
            "marker": {
             "colorbar": {
              "outlinewidth": 0,
              "ticks": ""
             }
            },
            "type": "scattergeo"
           }
          ],
          "scattergl": [
           {
            "marker": {
             "colorbar": {
              "outlinewidth": 0,
              "ticks": ""
             }
            },
            "type": "scattergl"
           }
          ],
          "scattermapbox": [
           {
            "marker": {
             "colorbar": {
              "outlinewidth": 0,
              "ticks": ""
             }
            },
            "type": "scattermapbox"
           }
          ],
          "scatterpolar": [
           {
            "marker": {
             "colorbar": {
              "outlinewidth": 0,
              "ticks": ""
             }
            },
            "type": "scatterpolar"
           }
          ],
          "scatterpolargl": [
           {
            "marker": {
             "colorbar": {
              "outlinewidth": 0,
              "ticks": ""
             }
            },
            "type": "scatterpolargl"
           }
          ],
          "scatterternary": [
           {
            "marker": {
             "colorbar": {
              "outlinewidth": 0,
              "ticks": ""
             }
            },
            "type": "scatterternary"
           }
          ],
          "surface": [
           {
            "colorbar": {
             "outlinewidth": 0,
             "ticks": ""
            },
            "colorscale": [
             [
              0,
              "#0d0887"
             ],
             [
              0.1111111111111111,
              "#46039f"
             ],
             [
              0.2222222222222222,
              "#7201a8"
             ],
             [
              0.3333333333333333,
              "#9c179e"
             ],
             [
              0.4444444444444444,
              "#bd3786"
             ],
             [
              0.5555555555555556,
              "#d8576b"
             ],
             [
              0.6666666666666666,
              "#ed7953"
             ],
             [
              0.7777777777777778,
              "#fb9f3a"
             ],
             [
              0.8888888888888888,
              "#fdca26"
             ],
             [
              1,
              "#f0f921"
             ]
            ],
            "type": "surface"
           }
          ],
          "table": [
           {
            "cells": {
             "fill": {
              "color": "#EBF0F8"
             },
             "line": {
              "color": "white"
             }
            },
            "header": {
             "fill": {
              "color": "#C8D4E3"
             },
             "line": {
              "color": "white"
             }
            },
            "type": "table"
           }
          ]
         },
         "layout": {
          "annotationdefaults": {
           "arrowcolor": "#2a3f5f",
           "arrowhead": 0,
           "arrowwidth": 1
          },
          "coloraxis": {
           "colorbar": {
            "outlinewidth": 0,
            "ticks": ""
           }
          },
          "colorscale": {
           "diverging": [
            [
             0,
             "#8e0152"
            ],
            [
             0.1,
             "#c51b7d"
            ],
            [
             0.2,
             "#de77ae"
            ],
            [
             0.3,
             "#f1b6da"
            ],
            [
             0.4,
             "#fde0ef"
            ],
            [
             0.5,
             "#f7f7f7"
            ],
            [
             0.6,
             "#e6f5d0"
            ],
            [
             0.7,
             "#b8e186"
            ],
            [
             0.8,
             "#7fbc41"
            ],
            [
             0.9,
             "#4d9221"
            ],
            [
             1,
             "#276419"
            ]
           ],
           "sequential": [
            [
             0,
             "#0d0887"
            ],
            [
             0.1111111111111111,
             "#46039f"
            ],
            [
             0.2222222222222222,
             "#7201a8"
            ],
            [
             0.3333333333333333,
             "#9c179e"
            ],
            [
             0.4444444444444444,
             "#bd3786"
            ],
            [
             0.5555555555555556,
             "#d8576b"
            ],
            [
             0.6666666666666666,
             "#ed7953"
            ],
            [
             0.7777777777777778,
             "#fb9f3a"
            ],
            [
             0.8888888888888888,
             "#fdca26"
            ],
            [
             1,
             "#f0f921"
            ]
           ],
           "sequentialminus": [
            [
             0,
             "#0d0887"
            ],
            [
             0.1111111111111111,
             "#46039f"
            ],
            [
             0.2222222222222222,
             "#7201a8"
            ],
            [
             0.3333333333333333,
             "#9c179e"
            ],
            [
             0.4444444444444444,
             "#bd3786"
            ],
            [
             0.5555555555555556,
             "#d8576b"
            ],
            [
             0.6666666666666666,
             "#ed7953"
            ],
            [
             0.7777777777777778,
             "#fb9f3a"
            ],
            [
             0.8888888888888888,
             "#fdca26"
            ],
            [
             1,
             "#f0f921"
            ]
           ]
          },
          "colorway": [
           "#636efa",
           "#EF553B",
           "#00cc96",
           "#ab63fa",
           "#FFA15A",
           "#19d3f3",
           "#FF6692",
           "#B6E880",
           "#FF97FF",
           "#FECB52"
          ],
          "font": {
           "color": "#2a3f5f"
          },
          "geo": {
           "bgcolor": "white",
           "lakecolor": "white",
           "landcolor": "#E5ECF6",
           "showlakes": true,
           "showland": true,
           "subunitcolor": "white"
          },
          "hoverlabel": {
           "align": "left"
          },
          "hovermode": "closest",
          "mapbox": {
           "style": "light"
          },
          "paper_bgcolor": "white",
          "plot_bgcolor": "#E5ECF6",
          "polar": {
           "angularaxis": {
            "gridcolor": "white",
            "linecolor": "white",
            "ticks": ""
           },
           "bgcolor": "#E5ECF6",
           "radialaxis": {
            "gridcolor": "white",
            "linecolor": "white",
            "ticks": ""
           }
          },
          "scene": {
           "xaxis": {
            "backgroundcolor": "#E5ECF6",
            "gridcolor": "white",
            "gridwidth": 2,
            "linecolor": "white",
            "showbackground": true,
            "ticks": "",
            "zerolinecolor": "white"
           },
           "yaxis": {
            "backgroundcolor": "#E5ECF6",
            "gridcolor": "white",
            "gridwidth": 2,
            "linecolor": "white",
            "showbackground": true,
            "ticks": "",
            "zerolinecolor": "white"
           },
           "zaxis": {
            "backgroundcolor": "#E5ECF6",
            "gridcolor": "white",
            "gridwidth": 2,
            "linecolor": "white",
            "showbackground": true,
            "ticks": "",
            "zerolinecolor": "white"
           }
          },
          "shapedefaults": {
           "line": {
            "color": "#2a3f5f"
           }
          },
          "ternary": {
           "aaxis": {
            "gridcolor": "white",
            "linecolor": "white",
            "ticks": ""
           },
           "baxis": {
            "gridcolor": "white",
            "linecolor": "white",
            "ticks": ""
           },
           "bgcolor": "#E5ECF6",
           "caxis": {
            "gridcolor": "white",
            "linecolor": "white",
            "ticks": ""
           }
          },
          "title": {
           "x": 0.05
          },
          "xaxis": {
           "automargin": true,
           "gridcolor": "white",
           "linecolor": "white",
           "ticks": "",
           "title": {
            "standoff": 15
           },
           "zerolinecolor": "white",
           "zerolinewidth": 2
          },
          "yaxis": {
           "automargin": true,
           "gridcolor": "white",
           "linecolor": "white",
           "ticks": "",
           "title": {
            "standoff": 15
           },
           "zerolinecolor": "white",
           "zerolinewidth": 2
          }
         }
        }
       }
      }
     },
     "metadata": {}
    }
   ],
   "source": [
    "labels = df1_old['Secondary Strata Name']\n",
    "values = df1_old['Percent']\n",
    "fig = go.Figure(data=[go.Pie(labels=labels, values=values,title='Older Patients', hole=0.5)])\n",
    "fig.show()"
   ]
  },
  {
   "cell_type": "code",
   "execution_count": 88,
   "metadata": {},
   "outputs": [
    {
     "output_type": "display_data",
     "data": {
      "application/vnd.plotly.v1+json": {
       "config": {
        "plotlyServerURL": "https://plot.ly"
       },
       "data": [
        {
         "domain": {
          "x": [
           0,
           0.1388888888888889
          ],
          "y": [
           0,
           1
          ]
         },
         "hole": 0.5,
         "hoverinfo": "label+percent+name",
         "labels": [
          "White",
          "Black",
          "Hispanic/Latino",
          "Asian/Pacific Islander",
          "American Indian/Alaska Native",
          "Other"
         ],
         "name": "Young",
         "type": "pie",
         "values": [
          16.6,
          28.9,
          39.7,
          5.3,
          2.5,
          14.8
         ]
        },
        {
         "domain": {
          "x": [
           0.34444444444444444,
           0.48333333333333334
          ],
          "y": [
           0,
           1
          ]
         },
         "hole": 0.5,
         "hoverinfo": "label+percent+name",
         "labels": [
          "White",
          "Black",
          "Hispanic/Latino",
          "Asian/Pacific Islander",
          "American Indian/Alaska Native",
          "Other"
         ],
         "name": "Mid-age",
         "type": "pie",
         "values": [
          27.8,
          37.1,
          21,
          4.9,
          2,
          14.1
         ]
        },
        {
         "domain": {
          "x": [
           0.6888888888888889,
           0.8277777777777777
          ],
          "y": [
           0,
           1
          ]
         },
         "hole": 0.5,
         "hoverinfo": "label+percent+name",
         "labels": [
          "White",
          "Black",
          "Hispanic/Latino",
          "Asian/Pacific Islander",
          "American Indian/Alaska Native",
          "Other"
         ],
         "name": "Old",
         "type": "pie",
         "values": [
          48.8,
          31.4,
          8.7,
          4.2,
          0.9,
          11.2
         ]
        }
       ],
       "layout": {
        "annotations": [
         {
          "font": {
           "size": 20
          },
          "showarrow": false,
          "text": "Young",
          "x": 0.05,
          "y": 0.5
         },
         {
          "font": {
           "size": 20
          },
          "showarrow": false,
          "text": "Mid",
          "x": 0.52,
          "y": 0.5
         },
         {
          "font": {
           "size": 20
          },
          "showarrow": false,
          "text": "Old",
          "x": 0.92,
          "y": 0.5
         }
        ],
        "template": {
         "data": {
          "bar": [
           {
            "error_x": {
             "color": "#2a3f5f"
            },
            "error_y": {
             "color": "#2a3f5f"
            },
            "marker": {
             "line": {
              "color": "#E5ECF6",
              "width": 0.5
             }
            },
            "type": "bar"
           }
          ],
          "barpolar": [
           {
            "marker": {
             "line": {
              "color": "#E5ECF6",
              "width": 0.5
             }
            },
            "type": "barpolar"
           }
          ],
          "carpet": [
           {
            "aaxis": {
             "endlinecolor": "#2a3f5f",
             "gridcolor": "white",
             "linecolor": "white",
             "minorgridcolor": "white",
             "startlinecolor": "#2a3f5f"
            },
            "baxis": {
             "endlinecolor": "#2a3f5f",
             "gridcolor": "white",
             "linecolor": "white",
             "minorgridcolor": "white",
             "startlinecolor": "#2a3f5f"
            },
            "type": "carpet"
           }
          ],
          "choropleth": [
           {
            "colorbar": {
             "outlinewidth": 0,
             "ticks": ""
            },
            "type": "choropleth"
           }
          ],
          "contour": [
           {
            "colorbar": {
             "outlinewidth": 0,
             "ticks": ""
            },
            "colorscale": [
             [
              0,
              "#0d0887"
             ],
             [
              0.1111111111111111,
              "#46039f"
             ],
             [
              0.2222222222222222,
              "#7201a8"
             ],
             [
              0.3333333333333333,
              "#9c179e"
             ],
             [
              0.4444444444444444,
              "#bd3786"
             ],
             [
              0.5555555555555556,
              "#d8576b"
             ],
             [
              0.6666666666666666,
              "#ed7953"
             ],
             [
              0.7777777777777778,
              "#fb9f3a"
             ],
             [
              0.8888888888888888,
              "#fdca26"
             ],
             [
              1,
              "#f0f921"
             ]
            ],
            "type": "contour"
           }
          ],
          "contourcarpet": [
           {
            "colorbar": {
             "outlinewidth": 0,
             "ticks": ""
            },
            "type": "contourcarpet"
           }
          ],
          "heatmap": [
           {
            "colorbar": {
             "outlinewidth": 0,
             "ticks": ""
            },
            "colorscale": [
             [
              0,
              "#0d0887"
             ],
             [
              0.1111111111111111,
              "#46039f"
             ],
             [
              0.2222222222222222,
              "#7201a8"
             ],
             [
              0.3333333333333333,
              "#9c179e"
             ],
             [
              0.4444444444444444,
              "#bd3786"
             ],
             [
              0.5555555555555556,
              "#d8576b"
             ],
             [
              0.6666666666666666,
              "#ed7953"
             ],
             [
              0.7777777777777778,
              "#fb9f3a"
             ],
             [
              0.8888888888888888,
              "#fdca26"
             ],
             [
              1,
              "#f0f921"
             ]
            ],
            "type": "heatmap"
           }
          ],
          "heatmapgl": [
           {
            "colorbar": {
             "outlinewidth": 0,
             "ticks": ""
            },
            "colorscale": [
             [
              0,
              "#0d0887"
             ],
             [
              0.1111111111111111,
              "#46039f"
             ],
             [
              0.2222222222222222,
              "#7201a8"
             ],
             [
              0.3333333333333333,
              "#9c179e"
             ],
             [
              0.4444444444444444,
              "#bd3786"
             ],
             [
              0.5555555555555556,
              "#d8576b"
             ],
             [
              0.6666666666666666,
              "#ed7953"
             ],
             [
              0.7777777777777778,
              "#fb9f3a"
             ],
             [
              0.8888888888888888,
              "#fdca26"
             ],
             [
              1,
              "#f0f921"
             ]
            ],
            "type": "heatmapgl"
           }
          ],
          "histogram": [
           {
            "marker": {
             "colorbar": {
              "outlinewidth": 0,
              "ticks": ""
             }
            },
            "type": "histogram"
           }
          ],
          "histogram2d": [
           {
            "colorbar": {
             "outlinewidth": 0,
             "ticks": ""
            },
            "colorscale": [
             [
              0,
              "#0d0887"
             ],
             [
              0.1111111111111111,
              "#46039f"
             ],
             [
              0.2222222222222222,
              "#7201a8"
             ],
             [
              0.3333333333333333,
              "#9c179e"
             ],
             [
              0.4444444444444444,
              "#bd3786"
             ],
             [
              0.5555555555555556,
              "#d8576b"
             ],
             [
              0.6666666666666666,
              "#ed7953"
             ],
             [
              0.7777777777777778,
              "#fb9f3a"
             ],
             [
              0.8888888888888888,
              "#fdca26"
             ],
             [
              1,
              "#f0f921"
             ]
            ],
            "type": "histogram2d"
           }
          ],
          "histogram2dcontour": [
           {
            "colorbar": {
             "outlinewidth": 0,
             "ticks": ""
            },
            "colorscale": [
             [
              0,
              "#0d0887"
             ],
             [
              0.1111111111111111,
              "#46039f"
             ],
             [
              0.2222222222222222,
              "#7201a8"
             ],
             [
              0.3333333333333333,
              "#9c179e"
             ],
             [
              0.4444444444444444,
              "#bd3786"
             ],
             [
              0.5555555555555556,
              "#d8576b"
             ],
             [
              0.6666666666666666,
              "#ed7953"
             ],
             [
              0.7777777777777778,
              "#fb9f3a"
             ],
             [
              0.8888888888888888,
              "#fdca26"
             ],
             [
              1,
              "#f0f921"
             ]
            ],
            "type": "histogram2dcontour"
           }
          ],
          "mesh3d": [
           {
            "colorbar": {
             "outlinewidth": 0,
             "ticks": ""
            },
            "type": "mesh3d"
           }
          ],
          "parcoords": [
           {
            "line": {
             "colorbar": {
              "outlinewidth": 0,
              "ticks": ""
             }
            },
            "type": "parcoords"
           }
          ],
          "pie": [
           {
            "automargin": true,
            "type": "pie"
           }
          ],
          "scatter": [
           {
            "marker": {
             "colorbar": {
              "outlinewidth": 0,
              "ticks": ""
             }
            },
            "type": "scatter"
           }
          ],
          "scatter3d": [
           {
            "line": {
             "colorbar": {
              "outlinewidth": 0,
              "ticks": ""
             }
            },
            "marker": {
             "colorbar": {
              "outlinewidth": 0,
              "ticks": ""
             }
            },
            "type": "scatter3d"
           }
          ],
          "scattercarpet": [
           {
            "marker": {
             "colorbar": {
              "outlinewidth": 0,
              "ticks": ""
             }
            },
            "type": "scattercarpet"
           }
          ],
          "scattergeo": [
           {
            "marker": {
             "colorbar": {
              "outlinewidth": 0,
              "ticks": ""
             }
            },
            "type": "scattergeo"
           }
          ],
          "scattergl": [
           {
            "marker": {
             "colorbar": {
              "outlinewidth": 0,
              "ticks": ""
             }
            },
            "type": "scattergl"
           }
          ],
          "scattermapbox": [
           {
            "marker": {
             "colorbar": {
              "outlinewidth": 0,
              "ticks": ""
             }
            },
            "type": "scattermapbox"
           }
          ],
          "scatterpolar": [
           {
            "marker": {
             "colorbar": {
              "outlinewidth": 0,
              "ticks": ""
             }
            },
            "type": "scatterpolar"
           }
          ],
          "scatterpolargl": [
           {
            "marker": {
             "colorbar": {
              "outlinewidth": 0,
              "ticks": ""
             }
            },
            "type": "scatterpolargl"
           }
          ],
          "scatterternary": [
           {
            "marker": {
             "colorbar": {
              "outlinewidth": 0,
              "ticks": ""
             }
            },
            "type": "scatterternary"
           }
          ],
          "surface": [
           {
            "colorbar": {
             "outlinewidth": 0,
             "ticks": ""
            },
            "colorscale": [
             [
              0,
              "#0d0887"
             ],
             [
              0.1111111111111111,
              "#46039f"
             ],
             [
              0.2222222222222222,
              "#7201a8"
             ],
             [
              0.3333333333333333,
              "#9c179e"
             ],
             [
              0.4444444444444444,
              "#bd3786"
             ],
             [
              0.5555555555555556,
              "#d8576b"
             ],
             [
              0.6666666666666666,
              "#ed7953"
             ],
             [
              0.7777777777777778,
              "#fb9f3a"
             ],
             [
              0.8888888888888888,
              "#fdca26"
             ],
             [
              1,
              "#f0f921"
             ]
            ],
            "type": "surface"
           }
          ],
          "table": [
           {
            "cells": {
             "fill": {
              "color": "#EBF0F8"
             },
             "line": {
              "color": "white"
             }
            },
            "header": {
             "fill": {
              "color": "#C8D4E3"
             },
             "line": {
              "color": "white"
             }
            },
            "type": "table"
           }
          ]
         },
         "layout": {
          "annotationdefaults": {
           "arrowcolor": "#2a3f5f",
           "arrowhead": 0,
           "arrowwidth": 1
          },
          "coloraxis": {
           "colorbar": {
            "outlinewidth": 0,
            "ticks": ""
           }
          },
          "colorscale": {
           "diverging": [
            [
             0,
             "#8e0152"
            ],
            [
             0.1,
             "#c51b7d"
            ],
            [
             0.2,
             "#de77ae"
            ],
            [
             0.3,
             "#f1b6da"
            ],
            [
             0.4,
             "#fde0ef"
            ],
            [
             0.5,
             "#f7f7f7"
            ],
            [
             0.6,
             "#e6f5d0"
            ],
            [
             0.7,
             "#b8e186"
            ],
            [
             0.8,
             "#7fbc41"
            ],
            [
             0.9,
             "#4d9221"
            ],
            [
             1,
             "#276419"
            ]
           ],
           "sequential": [
            [
             0,
             "#0d0887"
            ],
            [
             0.1111111111111111,
             "#46039f"
            ],
            [
             0.2222222222222222,
             "#7201a8"
            ],
            [
             0.3333333333333333,
             "#9c179e"
            ],
            [
             0.4444444444444444,
             "#bd3786"
            ],
            [
             0.5555555555555556,
             "#d8576b"
            ],
            [
             0.6666666666666666,
             "#ed7953"
            ],
            [
             0.7777777777777778,
             "#fb9f3a"
            ],
            [
             0.8888888888888888,
             "#fdca26"
            ],
            [
             1,
             "#f0f921"
            ]
           ],
           "sequentialminus": [
            [
             0,
             "#0d0887"
            ],
            [
             0.1111111111111111,
             "#46039f"
            ],
            [
             0.2222222222222222,
             "#7201a8"
            ],
            [
             0.3333333333333333,
             "#9c179e"
            ],
            [
             0.4444444444444444,
             "#bd3786"
            ],
            [
             0.5555555555555556,
             "#d8576b"
            ],
            [
             0.6666666666666666,
             "#ed7953"
            ],
            [
             0.7777777777777778,
             "#fb9f3a"
            ],
            [
             0.8888888888888888,
             "#fdca26"
            ],
            [
             1,
             "#f0f921"
            ]
           ]
          },
          "colorway": [
           "#636efa",
           "#EF553B",
           "#00cc96",
           "#ab63fa",
           "#FFA15A",
           "#19d3f3",
           "#FF6692",
           "#B6E880",
           "#FF97FF",
           "#FECB52"
          ],
          "font": {
           "color": "#2a3f5f"
          },
          "geo": {
           "bgcolor": "white",
           "lakecolor": "white",
           "landcolor": "#E5ECF6",
           "showlakes": true,
           "showland": true,
           "subunitcolor": "white"
          },
          "hoverlabel": {
           "align": "left"
          },
          "hovermode": "closest",
          "mapbox": {
           "style": "light"
          },
          "paper_bgcolor": "white",
          "plot_bgcolor": "#E5ECF6",
          "polar": {
           "angularaxis": {
            "gridcolor": "white",
            "linecolor": "white",
            "ticks": ""
           },
           "bgcolor": "#E5ECF6",
           "radialaxis": {
            "gridcolor": "white",
            "linecolor": "white",
            "ticks": ""
           }
          },
          "scene": {
           "xaxis": {
            "backgroundcolor": "#E5ECF6",
            "gridcolor": "white",
            "gridwidth": 2,
            "linecolor": "white",
            "showbackground": true,
            "ticks": "",
            "zerolinecolor": "white"
           },
           "yaxis": {
            "backgroundcolor": "#E5ECF6",
            "gridcolor": "white",
            "gridwidth": 2,
            "linecolor": "white",
            "showbackground": true,
            "ticks": "",
            "zerolinecolor": "white"
           },
           "zaxis": {
            "backgroundcolor": "#E5ECF6",
            "gridcolor": "white",
            "gridwidth": 2,
            "linecolor": "white",
            "showbackground": true,
            "ticks": "",
            "zerolinecolor": "white"
           }
          },
          "shapedefaults": {
           "line": {
            "color": "#2a3f5f"
           }
          },
          "ternary": {
           "aaxis": {
            "gridcolor": "white",
            "linecolor": "white",
            "ticks": ""
           },
           "baxis": {
            "gridcolor": "white",
            "linecolor": "white",
            "ticks": ""
           },
           "bgcolor": "#E5ECF6",
           "caxis": {
            "gridcolor": "white",
            "linecolor": "white",
            "ticks": ""
           }
          },
          "title": {
           "x": 0.05
          },
          "xaxis": {
           "automargin": true,
           "gridcolor": "white",
           "linecolor": "white",
           "ticks": "",
           "title": {
            "standoff": 15
           },
           "zerolinecolor": "white",
           "zerolinewidth": 2
          },
          "yaxis": {
           "automargin": true,
           "gridcolor": "white",
           "linecolor": "white",
           "ticks": "",
           "title": {
            "standoff": 15
           },
           "zerolinecolor": "white",
           "zerolinewidth": 2
          }
         }
        },
        "title": {
         "text": "COVID-19 Confirmed Cases Amongst 50-64 year old Patients based on Race"
        }
       }
      }
     },
     "metadata": {}
    }
   ],
   "source": [
    "fig = make_subplots(rows=1,cols=6, specs=[[{'type':'domain'}, {'type': 'domain'}, {'type': 'domain'},{'type': 'domain'},{'type': 'domain'},{'type': 'domain'}]])\n",
    "fig.add_trace(go.Pie(labels = df1_young['Secondary Strata Name'], values = df1_young['Percent'], name = \"Young\"), 1,1)\n",
    "fig.add_trace(go.Pie(labels = df1_mid['Secondary Strata Name'], values = df1_mid['Percent'], name = \"Mid-age\"), 1,3)\n",
    "fig.add_trace(go.Pie(labels = df1_old['Secondary Strata Name'], values = df1_old['Percent'], name = \"Old\"), 1,5)\n",
    "fig.update_traces(hole=0.5, hoverinfo=\"label+percent+name\")\n",
    "fig.update_layout(\n",
    "    title_text = \"COVID-19 Confirmed Cases Amongst 50-64 year old Patients based on Race\",\n",
    "    annotations=[dict(text=\"Young\", x=0.05, y=0.5, font_size=20, showarrow=False),\n",
    "                    dict(text=\"Mid\", x=0.52, y=0.5, font_size=20, showarrow=False),\n",
    "                    dict(text=\"Old\", x=0.92, y=0.5, font_size=20, showarrow=False)])\n",
    "fig.show()"
   ]
  },
  {
   "cell_type": "code",
   "execution_count": 98,
   "metadata": {},
   "outputs": [
    {
     "output_type": "execute_result",
     "data": {
      "text/plain": "(22, 6)"
     },
     "metadata": {},
     "execution_count": 98
    }
   ],
   "source": [
    "df1_b = df1.loc[df1['Primary Strata'] == 'In-hospital death']\n",
    "df1_b.shape"
   ]
  },
  {
   "cell_type": "code",
   "execution_count": 99,
   "metadata": {},
   "outputs": [
    {
     "output_type": "execute_result",
     "data": {
      "text/plain": "         Primary Strata Primary Strata Name  Characteristic  \\\n1844  In-hospital death          Yes                    Age   \n1845  In-hospital death          Yes                    Age   \n1846  In-hospital death          Yes                    Age   \n1847  In-hospital death          Yes                    Sex   \n1848  In-hospital death          Yes                    Sex   \n1849  In-hospital death          Yes         Race/Ethnicity   \n1850  In-hospital death          Yes         Race/Ethnicity   \n1851  In-hospital death          Yes         Race/Ethnicity   \n1852  In-hospital death          Yes         Race/Ethnicity   \n1853  In-hospital death          Yes         Race/Ethnicity   \n1854  In-hospital death          Yes         Race/Ethnicity   \n1855  In-hospital death          No                     Age   \n1856  In-hospital death          No                     Age   \n1857  In-hospital death          No                     Age   \n1858  In-hospital death          No                     Sex   \n1859  In-hospital death          No                     Sex   \n1860  In-hospital death          No          Race/Ethnicity   \n1861  In-hospital death          No          Race/Ethnicity   \n1862  In-hospital death          No          Race/Ethnicity   \n1863  In-hospital death          No          Race/Ethnicity   \n1864  In-hospital death          No          Race/Ethnicity   \n1865  In-hospital death          No          Race/Ethnicity   \n\n              Secondary Strata Name   Count  Percent  \n1844                       18-49 yr    41.0      4.0  \n1845                       50-64 yr   189.0     18.4  \n1846                         65+ yr   799.0     77.6  \n1847                           Male   570.0     55.4  \n1848                         Female   459.0     44.6  \n1849                          White   581.0     56.5  \n1850                          Black   265.0     25.8  \n1851                Hispanic/Latino    80.0      7.8  \n1852         Asian/Pacific Islander    55.0      5.3  \n1853  American Indian/Alaska Native    19.0      1.8  \n1854                          Other   103.0     10.0  \n1855                       18-49 yr  1995.0     34.2  \n1856                       50-64 yr  1757.0     30.1  \n1857                         65+ yr  2079.0     35.7  \n1858                           Male  2943.0     50.5  \n1859                         Female  2888.0     49.5  \n1860                          White  2357.0     40.4  \n1861                          Black  1766.0     30.3  \n1862                Hispanic/Latino   994.0     17.1  \n1863         Asian/Pacific Islander   397.0      6.8  \n1864  American Indian/Alaska Native   103.0      1.8  \n1865                          Other   712.0     12.2  ",
      "text/html": "<div>\n<style scoped>\n    .dataframe tbody tr th:only-of-type {\n        vertical-align: middle;\n    }\n\n    .dataframe tbody tr th {\n        vertical-align: top;\n    }\n\n    .dataframe thead th {\n        text-align: right;\n    }\n</style>\n<table border=\"1\" class=\"dataframe\">\n  <thead>\n    <tr style=\"text-align: right;\">\n      <th></th>\n      <th>Primary Strata</th>\n      <th>Primary Strata Name</th>\n      <th>Characteristic</th>\n      <th>Secondary Strata Name</th>\n      <th>Count</th>\n      <th>Percent</th>\n    </tr>\n  </thead>\n  <tbody>\n    <tr>\n      <th>1844</th>\n      <td>In-hospital death</td>\n      <td>Yes</td>\n      <td>Age</td>\n      <td>18-49 yr</td>\n      <td>41.0</td>\n      <td>4.0</td>\n    </tr>\n    <tr>\n      <th>1845</th>\n      <td>In-hospital death</td>\n      <td>Yes</td>\n      <td>Age</td>\n      <td>50-64 yr</td>\n      <td>189.0</td>\n      <td>18.4</td>\n    </tr>\n    <tr>\n      <th>1846</th>\n      <td>In-hospital death</td>\n      <td>Yes</td>\n      <td>Age</td>\n      <td>65+ yr</td>\n      <td>799.0</td>\n      <td>77.6</td>\n    </tr>\n    <tr>\n      <th>1847</th>\n      <td>In-hospital death</td>\n      <td>Yes</td>\n      <td>Sex</td>\n      <td>Male</td>\n      <td>570.0</td>\n      <td>55.4</td>\n    </tr>\n    <tr>\n      <th>1848</th>\n      <td>In-hospital death</td>\n      <td>Yes</td>\n      <td>Sex</td>\n      <td>Female</td>\n      <td>459.0</td>\n      <td>44.6</td>\n    </tr>\n    <tr>\n      <th>1849</th>\n      <td>In-hospital death</td>\n      <td>Yes</td>\n      <td>Race/Ethnicity</td>\n      <td>White</td>\n      <td>581.0</td>\n      <td>56.5</td>\n    </tr>\n    <tr>\n      <th>1850</th>\n      <td>In-hospital death</td>\n      <td>Yes</td>\n      <td>Race/Ethnicity</td>\n      <td>Black</td>\n      <td>265.0</td>\n      <td>25.8</td>\n    </tr>\n    <tr>\n      <th>1851</th>\n      <td>In-hospital death</td>\n      <td>Yes</td>\n      <td>Race/Ethnicity</td>\n      <td>Hispanic/Latino</td>\n      <td>80.0</td>\n      <td>7.8</td>\n    </tr>\n    <tr>\n      <th>1852</th>\n      <td>In-hospital death</td>\n      <td>Yes</td>\n      <td>Race/Ethnicity</td>\n      <td>Asian/Pacific Islander</td>\n      <td>55.0</td>\n      <td>5.3</td>\n    </tr>\n    <tr>\n      <th>1853</th>\n      <td>In-hospital death</td>\n      <td>Yes</td>\n      <td>Race/Ethnicity</td>\n      <td>American Indian/Alaska Native</td>\n      <td>19.0</td>\n      <td>1.8</td>\n    </tr>\n    <tr>\n      <th>1854</th>\n      <td>In-hospital death</td>\n      <td>Yes</td>\n      <td>Race/Ethnicity</td>\n      <td>Other</td>\n      <td>103.0</td>\n      <td>10.0</td>\n    </tr>\n    <tr>\n      <th>1855</th>\n      <td>In-hospital death</td>\n      <td>No</td>\n      <td>Age</td>\n      <td>18-49 yr</td>\n      <td>1995.0</td>\n      <td>34.2</td>\n    </tr>\n    <tr>\n      <th>1856</th>\n      <td>In-hospital death</td>\n      <td>No</td>\n      <td>Age</td>\n      <td>50-64 yr</td>\n      <td>1757.0</td>\n      <td>30.1</td>\n    </tr>\n    <tr>\n      <th>1857</th>\n      <td>In-hospital death</td>\n      <td>No</td>\n      <td>Age</td>\n      <td>65+ yr</td>\n      <td>2079.0</td>\n      <td>35.7</td>\n    </tr>\n    <tr>\n      <th>1858</th>\n      <td>In-hospital death</td>\n      <td>No</td>\n      <td>Sex</td>\n      <td>Male</td>\n      <td>2943.0</td>\n      <td>50.5</td>\n    </tr>\n    <tr>\n      <th>1859</th>\n      <td>In-hospital death</td>\n      <td>No</td>\n      <td>Sex</td>\n      <td>Female</td>\n      <td>2888.0</td>\n      <td>49.5</td>\n    </tr>\n    <tr>\n      <th>1860</th>\n      <td>In-hospital death</td>\n      <td>No</td>\n      <td>Race/Ethnicity</td>\n      <td>White</td>\n      <td>2357.0</td>\n      <td>40.4</td>\n    </tr>\n    <tr>\n      <th>1861</th>\n      <td>In-hospital death</td>\n      <td>No</td>\n      <td>Race/Ethnicity</td>\n      <td>Black</td>\n      <td>1766.0</td>\n      <td>30.3</td>\n    </tr>\n    <tr>\n      <th>1862</th>\n      <td>In-hospital death</td>\n      <td>No</td>\n      <td>Race/Ethnicity</td>\n      <td>Hispanic/Latino</td>\n      <td>994.0</td>\n      <td>17.1</td>\n    </tr>\n    <tr>\n      <th>1863</th>\n      <td>In-hospital death</td>\n      <td>No</td>\n      <td>Race/Ethnicity</td>\n      <td>Asian/Pacific Islander</td>\n      <td>397.0</td>\n      <td>6.8</td>\n    </tr>\n    <tr>\n      <th>1864</th>\n      <td>In-hospital death</td>\n      <td>No</td>\n      <td>Race/Ethnicity</td>\n      <td>American Indian/Alaska Native</td>\n      <td>103.0</td>\n      <td>1.8</td>\n    </tr>\n    <tr>\n      <th>1865</th>\n      <td>In-hospital death</td>\n      <td>No</td>\n      <td>Race/Ethnicity</td>\n      <td>Other</td>\n      <td>712.0</td>\n      <td>12.2</td>\n    </tr>\n  </tbody>\n</table>\n</div>"
     },
     "metadata": {},
     "execution_count": 99
    }
   ],
   "source": [
    "df1_b"
   ]
  },
  {
   "cell_type": "code",
   "execution_count": 89,
   "metadata": {},
   "outputs": [
    {
     "output_type": "execute_result",
     "data": {
      "text/plain": "         Primary Strata Primary Strata Name  Characteristic  \\\n1849  In-hospital death          Yes         Race/Ethnicity   \n1850  In-hospital death          Yes         Race/Ethnicity   \n1851  In-hospital death          Yes         Race/Ethnicity   \n1852  In-hospital death          Yes         Race/Ethnicity   \n1853  In-hospital death          Yes         Race/Ethnicity   \n1854  In-hospital death          Yes         Race/Ethnicity   \n1860  In-hospital death          No          Race/Ethnicity   \n1861  In-hospital death          No          Race/Ethnicity   \n1862  In-hospital death          No          Race/Ethnicity   \n1863  In-hospital death          No          Race/Ethnicity   \n1864  In-hospital death          No          Race/Ethnicity   \n1865  In-hospital death          No          Race/Ethnicity   \n\n              Secondary Strata Name   Count  Percent  \n1849                          White   581.0     56.5  \n1850                          Black   265.0     25.8  \n1851                Hispanic/Latino    80.0      7.8  \n1852         Asian/Pacific Islander    55.0      5.3  \n1853  American Indian/Alaska Native    19.0      1.8  \n1854                          Other   103.0     10.0  \n1860                          White  2357.0     40.4  \n1861                          Black  1766.0     30.3  \n1862                Hispanic/Latino   994.0     17.1  \n1863         Asian/Pacific Islander   397.0      6.8  \n1864  American Indian/Alaska Native   103.0      1.8  \n1865                          Other   712.0     12.2  ",
      "text/html": "<div>\n<style scoped>\n    .dataframe tbody tr th:only-of-type {\n        vertical-align: middle;\n    }\n\n    .dataframe tbody tr th {\n        vertical-align: top;\n    }\n\n    .dataframe thead th {\n        text-align: right;\n    }\n</style>\n<table border=\"1\" class=\"dataframe\">\n  <thead>\n    <tr style=\"text-align: right;\">\n      <th></th>\n      <th>Primary Strata</th>\n      <th>Primary Strata Name</th>\n      <th>Characteristic</th>\n      <th>Secondary Strata Name</th>\n      <th>Count</th>\n      <th>Percent</th>\n    </tr>\n  </thead>\n  <tbody>\n    <tr>\n      <th>1849</th>\n      <td>In-hospital death</td>\n      <td>Yes</td>\n      <td>Race/Ethnicity</td>\n      <td>White</td>\n      <td>581.0</td>\n      <td>56.5</td>\n    </tr>\n    <tr>\n      <th>1850</th>\n      <td>In-hospital death</td>\n      <td>Yes</td>\n      <td>Race/Ethnicity</td>\n      <td>Black</td>\n      <td>265.0</td>\n      <td>25.8</td>\n    </tr>\n    <tr>\n      <th>1851</th>\n      <td>In-hospital death</td>\n      <td>Yes</td>\n      <td>Race/Ethnicity</td>\n      <td>Hispanic/Latino</td>\n      <td>80.0</td>\n      <td>7.8</td>\n    </tr>\n    <tr>\n      <th>1852</th>\n      <td>In-hospital death</td>\n      <td>Yes</td>\n      <td>Race/Ethnicity</td>\n      <td>Asian/Pacific Islander</td>\n      <td>55.0</td>\n      <td>5.3</td>\n    </tr>\n    <tr>\n      <th>1853</th>\n      <td>In-hospital death</td>\n      <td>Yes</td>\n      <td>Race/Ethnicity</td>\n      <td>American Indian/Alaska Native</td>\n      <td>19.0</td>\n      <td>1.8</td>\n    </tr>\n    <tr>\n      <th>1854</th>\n      <td>In-hospital death</td>\n      <td>Yes</td>\n      <td>Race/Ethnicity</td>\n      <td>Other</td>\n      <td>103.0</td>\n      <td>10.0</td>\n    </tr>\n    <tr>\n      <th>1860</th>\n      <td>In-hospital death</td>\n      <td>No</td>\n      <td>Race/Ethnicity</td>\n      <td>White</td>\n      <td>2357.0</td>\n      <td>40.4</td>\n    </tr>\n    <tr>\n      <th>1861</th>\n      <td>In-hospital death</td>\n      <td>No</td>\n      <td>Race/Ethnicity</td>\n      <td>Black</td>\n      <td>1766.0</td>\n      <td>30.3</td>\n    </tr>\n    <tr>\n      <th>1862</th>\n      <td>In-hospital death</td>\n      <td>No</td>\n      <td>Race/Ethnicity</td>\n      <td>Hispanic/Latino</td>\n      <td>994.0</td>\n      <td>17.1</td>\n    </tr>\n    <tr>\n      <th>1863</th>\n      <td>In-hospital death</td>\n      <td>No</td>\n      <td>Race/Ethnicity</td>\n      <td>Asian/Pacific Islander</td>\n      <td>397.0</td>\n      <td>6.8</td>\n    </tr>\n    <tr>\n      <th>1864</th>\n      <td>In-hospital death</td>\n      <td>No</td>\n      <td>Race/Ethnicity</td>\n      <td>American Indian/Alaska Native</td>\n      <td>103.0</td>\n      <td>1.8</td>\n    </tr>\n    <tr>\n      <th>1865</th>\n      <td>In-hospital death</td>\n      <td>No</td>\n      <td>Race/Ethnicity</td>\n      <td>Other</td>\n      <td>712.0</td>\n      <td>12.2</td>\n    </tr>\n  </tbody>\n</table>\n</div>"
     },
     "metadata": {},
     "execution_count": 89
    }
   ],
   "source": [
    "deaths = df1.loc[(df1['Characteristic'] == 'Race/Ethnicity') & (df1['Primary Strata'] == 'In-hospital death')]\n",
    "deaths\n"
   ]
  },
  {
   "cell_type": "code",
   "execution_count": 90,
   "metadata": {},
   "outputs": [
    {
     "output_type": "execute_result",
     "data": {
      "text/plain": "(12, 6)"
     },
     "metadata": {},
     "execution_count": 90
    }
   ],
   "source": [
    "deaths.shape "
   ]
  },
  {
   "cell_type": "markdown",
   "metadata": {},
   "source": [
    "# Selected Underlying Medical Conditions of COVID-19-associated Hospitalizations from the COVID-NET Network (data downloaded on 6/22/2020)\t\t\t\t\t\t\t\n",
    "Centers for Disease Control and Prevention\t\t\t\t\t\t\t"
   ]
  },
  {
   "cell_type": "code",
   "execution_count": 91,
   "metadata": {},
   "outputs": [
    {
     "output_type": "execute_result",
     "data": {
      "text/plain": "   YEAR       MEDICAL CONDITION  CHILDREN-COUNT  CHILDREN-PERCENT(%)  \\\n0  2020                  Asthma            24.0                 16.1   \n1  2020  Cardiovascular disease             4.0                  2.7   \n2  2020    Chronic lung disease            13.0                  8.7   \n3  2020      Immune suppression            10.0                  6.8   \n4  2020       Metabolic disease             6.0                  4.1   \n\n   ADULTS-COUNT  ADULTS-PERCENT(%)  FEMALES (15-44 YR)-COUNT  \\\n0         926.0               12.5                       NaN   \n1        2425.0               32.7                       NaN   \n2        1479.0               20.0                       NaN   \n3         711.0                9.6                       NaN   \n4        3108.0               41.9                       NaN   \n\n   FEMALES (15-44 YR)-PERCENT(%)  \n0                            NaN  \n1                            NaN  \n2                            NaN  \n3                            NaN  \n4                            NaN  ",
      "text/html": "<div>\n<style scoped>\n    .dataframe tbody tr th:only-of-type {\n        vertical-align: middle;\n    }\n\n    .dataframe tbody tr th {\n        vertical-align: top;\n    }\n\n    .dataframe thead th {\n        text-align: right;\n    }\n</style>\n<table border=\"1\" class=\"dataframe\">\n  <thead>\n    <tr style=\"text-align: right;\">\n      <th></th>\n      <th>YEAR</th>\n      <th>MEDICAL CONDITION</th>\n      <th>CHILDREN-COUNT</th>\n      <th>CHILDREN-PERCENT(%)</th>\n      <th>ADULTS-COUNT</th>\n      <th>ADULTS-PERCENT(%)</th>\n      <th>FEMALES (15-44 YR)-COUNT</th>\n      <th>FEMALES (15-44 YR)-PERCENT(%)</th>\n    </tr>\n  </thead>\n  <tbody>\n    <tr>\n      <th>0</th>\n      <td>2020</td>\n      <td>Asthma</td>\n      <td>24.0</td>\n      <td>16.1</td>\n      <td>926.0</td>\n      <td>12.5</td>\n      <td>NaN</td>\n      <td>NaN</td>\n    </tr>\n    <tr>\n      <th>1</th>\n      <td>2020</td>\n      <td>Cardiovascular disease</td>\n      <td>4.0</td>\n      <td>2.7</td>\n      <td>2425.0</td>\n      <td>32.7</td>\n      <td>NaN</td>\n      <td>NaN</td>\n    </tr>\n    <tr>\n      <th>2</th>\n      <td>2020</td>\n      <td>Chronic lung disease</td>\n      <td>13.0</td>\n      <td>8.7</td>\n      <td>1479.0</td>\n      <td>20.0</td>\n      <td>NaN</td>\n      <td>NaN</td>\n    </tr>\n    <tr>\n      <th>3</th>\n      <td>2020</td>\n      <td>Immune suppression</td>\n      <td>10.0</td>\n      <td>6.8</td>\n      <td>711.0</td>\n      <td>9.6</td>\n      <td>NaN</td>\n      <td>NaN</td>\n    </tr>\n    <tr>\n      <th>4</th>\n      <td>2020</td>\n      <td>Metabolic disease</td>\n      <td>6.0</td>\n      <td>4.1</td>\n      <td>3108.0</td>\n      <td>41.9</td>\n      <td>NaN</td>\n      <td>NaN</td>\n    </tr>\n  </tbody>\n</table>\n</div>"
     },
     "metadata": {},
     "execution_count": 91
    }
   ],
   "source": [
    "df2.head(5)"
   ]
  },
  {
   "cell_type": "code",
   "execution_count": 92,
   "metadata": {},
   "outputs": [
    {
     "output_type": "execute_result",
     "data": {
      "text/plain": "(17, 8)"
     },
     "metadata": {},
     "execution_count": 92
    }
   ],
   "source": [
    "df2.shape"
   ]
  },
  {
   "cell_type": "code",
   "execution_count": 93,
   "metadata": {},
   "outputs": [
    {
     "output_type": "execute_result",
     "data": {
      "text/plain": "Index(['YEAR', 'MEDICAL CONDITION', 'CHILDREN-COUNT', 'CHILDREN-PERCENT(%)',\n       'ADULTS-COUNT', 'ADULTS-PERCENT(%)', 'FEMALES (15-44 YR)-COUNT',\n       'FEMALES (15-44 YR)-PERCENT(%)'],\n      dtype='object')"
     },
     "metadata": {},
     "execution_count": 93
    }
   ],
   "source": [
    "df2.columns"
   ]
  },
  {
   "cell_type": "markdown",
   "metadata": {},
   "source": [
    "# Counts of COVID-19-associated Hospitalizations by Age from the COVID-NET Network (data downloaded on 6/22/2020)\t\t\t\t\t\t\n",
    "Centers for Disease Control and Prevention\t\t\t\t\t\t"
   ]
  },
  {
   "cell_type": "code",
   "execution_count": 94,
   "metadata": {},
   "outputs": [
    {
     "output_type": "execute_result",
     "data": {
      "text/plain": "   YEAR WEEK_NUMBER  0-4 YR  5-17 YR  18-49 YR  50-64 YR  65+ YR\n0  2020     2020-10     0.0      0.0      11.0       6.0    25.0\n1  2020     2020-11     0.0      0.0      53.0      79.0    89.0\n2  2020     2020-12     0.0      5.0     265.0     292.0   411.0\n3  2020     2020-13     7.0      5.0     637.0     801.0  1053.0\n4  2020     2020-14    11.0     11.0     653.0     999.0  1406.0",
      "text/html": "<div>\n<style scoped>\n    .dataframe tbody tr th:only-of-type {\n        vertical-align: middle;\n    }\n\n    .dataframe tbody tr th {\n        vertical-align: top;\n    }\n\n    .dataframe thead th {\n        text-align: right;\n    }\n</style>\n<table border=\"1\" class=\"dataframe\">\n  <thead>\n    <tr style=\"text-align: right;\">\n      <th></th>\n      <th>YEAR</th>\n      <th>WEEK_NUMBER</th>\n      <th>0-4 YR</th>\n      <th>5-17 YR</th>\n      <th>18-49 YR</th>\n      <th>50-64 YR</th>\n      <th>65+ YR</th>\n    </tr>\n  </thead>\n  <tbody>\n    <tr>\n      <th>0</th>\n      <td>2020</td>\n      <td>2020-10</td>\n      <td>0.0</td>\n      <td>0.0</td>\n      <td>11.0</td>\n      <td>6.0</td>\n      <td>25.0</td>\n    </tr>\n    <tr>\n      <th>1</th>\n      <td>2020</td>\n      <td>2020-11</td>\n      <td>0.0</td>\n      <td>0.0</td>\n      <td>53.0</td>\n      <td>79.0</td>\n      <td>89.0</td>\n    </tr>\n    <tr>\n      <th>2</th>\n      <td>2020</td>\n      <td>2020-12</td>\n      <td>0.0</td>\n      <td>5.0</td>\n      <td>265.0</td>\n      <td>292.0</td>\n      <td>411.0</td>\n    </tr>\n    <tr>\n      <th>3</th>\n      <td>2020</td>\n      <td>2020-13</td>\n      <td>7.0</td>\n      <td>5.0</td>\n      <td>637.0</td>\n      <td>801.0</td>\n      <td>1053.0</td>\n    </tr>\n    <tr>\n      <th>4</th>\n      <td>2020</td>\n      <td>2020-14</td>\n      <td>11.0</td>\n      <td>11.0</td>\n      <td>653.0</td>\n      <td>999.0</td>\n      <td>1406.0</td>\n    </tr>\n  </tbody>\n</table>\n</div>"
     },
     "metadata": {},
     "execution_count": 94
    }
   ],
   "source": [
    "df3.head(5)"
   ]
  },
  {
   "cell_type": "code",
   "execution_count": 95,
   "metadata": {},
   "outputs": [
    {
     "output_type": "execute_result",
     "data": {
      "text/plain": "(20, 7)"
     },
     "metadata": {},
     "execution_count": 95
    }
   ],
   "source": [
    "df3.shape"
   ]
  },
  {
   "cell_type": "markdown",
   "metadata": {},
   "source": [
    "# Data set --> Percent of COVID-19-associated Hospitalizations by Age from the COVID-NET Network (data downloaded on 6/22/2020)\t\t\t\t\t\t\n",
    "Centers for Disease Control and Prevention\t\t\t\t\t\t"
   ]
  },
  {
   "cell_type": "code",
   "execution_count": 96,
   "metadata": {},
   "outputs": [
    {
     "output_type": "execute_result",
     "data": {
      "text/plain": "   YEAR WEEK_NUMBER  0-4 YR  5-17 YR  18-49 YR  50-64 YR  65+ YR\n0  2020     2020-10     0.0      0.0      26.2      14.3    59.5\n1  2020     2020-11     0.0      0.0      24.0      35.7    40.3\n2  2020     2020-12     0.0      0.5      27.2      30.0    42.2\n3  2020     2020-13     0.3      0.2      25.4      32.0    42.1\n4  2020     2020-14     0.4      0.4      21.2      32.4    45.6",
      "text/html": "<div>\n<style scoped>\n    .dataframe tbody tr th:only-of-type {\n        vertical-align: middle;\n    }\n\n    .dataframe tbody tr th {\n        vertical-align: top;\n    }\n\n    .dataframe thead th {\n        text-align: right;\n    }\n</style>\n<table border=\"1\" class=\"dataframe\">\n  <thead>\n    <tr style=\"text-align: right;\">\n      <th></th>\n      <th>YEAR</th>\n      <th>WEEK_NUMBER</th>\n      <th>0-4 YR</th>\n      <th>5-17 YR</th>\n      <th>18-49 YR</th>\n      <th>50-64 YR</th>\n      <th>65+ YR</th>\n    </tr>\n  </thead>\n  <tbody>\n    <tr>\n      <th>0</th>\n      <td>2020</td>\n      <td>2020-10</td>\n      <td>0.0</td>\n      <td>0.0</td>\n      <td>26.2</td>\n      <td>14.3</td>\n      <td>59.5</td>\n    </tr>\n    <tr>\n      <th>1</th>\n      <td>2020</td>\n      <td>2020-11</td>\n      <td>0.0</td>\n      <td>0.0</td>\n      <td>24.0</td>\n      <td>35.7</td>\n      <td>40.3</td>\n    </tr>\n    <tr>\n      <th>2</th>\n      <td>2020</td>\n      <td>2020-12</td>\n      <td>0.0</td>\n      <td>0.5</td>\n      <td>27.2</td>\n      <td>30.0</td>\n      <td>42.2</td>\n    </tr>\n    <tr>\n      <th>3</th>\n      <td>2020</td>\n      <td>2020-13</td>\n      <td>0.3</td>\n      <td>0.2</td>\n      <td>25.4</td>\n      <td>32.0</td>\n      <td>42.1</td>\n    </tr>\n    <tr>\n      <th>4</th>\n      <td>2020</td>\n      <td>2020-14</td>\n      <td>0.4</td>\n      <td>0.4</td>\n      <td>21.2</td>\n      <td>32.4</td>\n      <td>45.6</td>\n    </tr>\n  </tbody>\n</table>\n</div>"
     },
     "metadata": {},
     "execution_count": 96
    }
   ],
   "source": [
    "df4.head(5)"
   ]
  },
  {
   "cell_type": "code",
   "execution_count": 97,
   "metadata": {},
   "outputs": [
    {
     "output_type": "execute_result",
     "data": {
      "text/plain": "(20, 7)"
     },
     "metadata": {},
     "execution_count": 97
    }
   ],
   "source": [
    "df4.shape"
   ]
  },
  {
   "cell_type": "code",
   "execution_count": null,
   "metadata": {},
   "outputs": [],
   "source": []
  }
 ]
}