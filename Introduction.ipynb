{
 "metadata": {
  "language_info": {
   "codemirror_mode": {
    "name": "ipython",
    "version": 3
   },
   "file_extension": ".py",
   "mimetype": "text/x-python",
   "name": "python",
   "nbconvert_exporter": "python",
   "pygments_lexer": "ipython3",
   "version": "3.7.4"
  },
  "orig_nbformat": 4,
  "kernelspec": {
   "name": "python374jvsc74a57bd023bfeb245da90e986cff6cdc0089687d97b00247f2551abaa4e283acbe9b3284",
   "display_name": "Python 3.7.4 64-bit ('anaconda3': virtualenv)"
  }
 },
 "nbformat": 4,
 "nbformat_minor": 2,
 "cells": [
  {
   "source": [
    "<h1> This is a starter Jupyter Notebook for this code-a-thon. </h1>\n",
    "\n"
   ],
   "cell_type": "markdown",
   "metadata": {}
  },
  {
   "source": [
    "import pandas as pd \n",
    "import numpy as np \n",
    "import matplotlib as plt\n"
   ],
   "cell_type": "code",
   "metadata": {},
   "execution_count": 1,
   "outputs": []
  },
  {
   "source": [
    "<p>The <b>CRDT Data - CRDT.csv</b> dataset is from The COVID Tracking Project. This dataset reflects all 51 US states and territories that have report demographic data. "
   ],
   "cell_type": "markdown",
   "metadata": {}
  },
  {
   "cell_type": "code",
   "execution_count": 2,
   "metadata": {},
   "outputs": [
    {
     "output_type": "execute_result",
     "data": {
      "text/plain": [
       "       Date State  Cases_Total  Cases_White  Cases_Black  Cases_Latinx  \\\n",
       "0  20210307    AK      59332.0      18300.0       1499.0           NaN   \n",
       "1  20210307    AL     499819.0     160347.0      82790.0           NaN   \n",
       "2  20210307    AR     324818.0     207596.0      50842.0           NaN   \n",
       "3  20210307    AS          NaN          NaN          NaN           NaN   \n",
       "4  20210307    AZ     826454.0     308453.0      25775.0      244539.0   \n",
       "\n",
       "   Cases_Asian  Cases_AIAN  Cases_NHPI  Cases_Multiracial  ...  Tests_Latinx  \\\n",
       "0       2447.0     12238.0      1508.0             4453.0  ...           NaN   \n",
       "1       2273.0         NaN         NaN                NaN  ...           NaN   \n",
       "2       2913.0      1070.0      3358.0             1804.0  ...           NaN   \n",
       "3          NaN         NaN         NaN                NaN  ...           NaN   \n",
       "4      11921.0     40707.0         NaN                NaN  ...           NaN   \n",
       "\n",
       "   Tests_Asian  Tests_AIAN  Tests_NHPI  Tests_Multiracial  Tests_Other  \\\n",
       "0          NaN         NaN         NaN                NaN          NaN   \n",
       "1          NaN         NaN         NaN                NaN          NaN   \n",
       "2          NaN         NaN         NaN                NaN          NaN   \n",
       "3          NaN         NaN         NaN                NaN          NaN   \n",
       "4          NaN         NaN         NaN                NaN          NaN   \n",
       "\n",
       "   Tests_Unknown  Tests_Ethnicity_Hispanic  Tests_Ethnicity_NonHispanic  \\\n",
       "0            NaN                       NaN                          NaN   \n",
       "1            NaN                       NaN                          NaN   \n",
       "2            NaN                       NaN                          NaN   \n",
       "3            NaN                       NaN                          NaN   \n",
       "4            NaN                       NaN                          NaN   \n",
       "\n",
       "   Tests_Ethnicity_Unknown  \n",
       "0                      NaN  \n",
       "1                      NaN  \n",
       "2                      NaN  \n",
       "3                      NaN  \n",
       "4                      NaN  \n",
       "\n",
       "[5 rows x 54 columns]"
      ],
      "text/html": "<div>\n<style scoped>\n    .dataframe tbody tr th:only-of-type {\n        vertical-align: middle;\n    }\n\n    .dataframe tbody tr th {\n        vertical-align: top;\n    }\n\n    .dataframe thead th {\n        text-align: right;\n    }\n</style>\n<table border=\"1\" class=\"dataframe\">\n  <thead>\n    <tr style=\"text-align: right;\">\n      <th></th>\n      <th>Date</th>\n      <th>State</th>\n      <th>Cases_Total</th>\n      <th>Cases_White</th>\n      <th>Cases_Black</th>\n      <th>Cases_Latinx</th>\n      <th>Cases_Asian</th>\n      <th>Cases_AIAN</th>\n      <th>Cases_NHPI</th>\n      <th>Cases_Multiracial</th>\n      <th>...</th>\n      <th>Tests_Latinx</th>\n      <th>Tests_Asian</th>\n      <th>Tests_AIAN</th>\n      <th>Tests_NHPI</th>\n      <th>Tests_Multiracial</th>\n      <th>Tests_Other</th>\n      <th>Tests_Unknown</th>\n      <th>Tests_Ethnicity_Hispanic</th>\n      <th>Tests_Ethnicity_NonHispanic</th>\n      <th>Tests_Ethnicity_Unknown</th>\n    </tr>\n  </thead>\n  <tbody>\n    <tr>\n      <td>0</td>\n      <td>20210307</td>\n      <td>AK</td>\n      <td>59332.0</td>\n      <td>18300.0</td>\n      <td>1499.0</td>\n      <td>NaN</td>\n      <td>2447.0</td>\n      <td>12238.0</td>\n      <td>1508.0</td>\n      <td>4453.0</td>\n      <td>...</td>\n      <td>NaN</td>\n      <td>NaN</td>\n      <td>NaN</td>\n      <td>NaN</td>\n      <td>NaN</td>\n      <td>NaN</td>\n      <td>NaN</td>\n      <td>NaN</td>\n      <td>NaN</td>\n      <td>NaN</td>\n    </tr>\n    <tr>\n      <td>1</td>\n      <td>20210307</td>\n      <td>AL</td>\n      <td>499819.0</td>\n      <td>160347.0</td>\n      <td>82790.0</td>\n      <td>NaN</td>\n      <td>2273.0</td>\n      <td>NaN</td>\n      <td>NaN</td>\n      <td>NaN</td>\n      <td>...</td>\n      <td>NaN</td>\n      <td>NaN</td>\n      <td>NaN</td>\n      <td>NaN</td>\n      <td>NaN</td>\n      <td>NaN</td>\n      <td>NaN</td>\n      <td>NaN</td>\n      <td>NaN</td>\n      <td>NaN</td>\n    </tr>\n    <tr>\n      <td>2</td>\n      <td>20210307</td>\n      <td>AR</td>\n      <td>324818.0</td>\n      <td>207596.0</td>\n      <td>50842.0</td>\n      <td>NaN</td>\n      <td>2913.0</td>\n      <td>1070.0</td>\n      <td>3358.0</td>\n      <td>1804.0</td>\n      <td>...</td>\n      <td>NaN</td>\n      <td>NaN</td>\n      <td>NaN</td>\n      <td>NaN</td>\n      <td>NaN</td>\n      <td>NaN</td>\n      <td>NaN</td>\n      <td>NaN</td>\n      <td>NaN</td>\n      <td>NaN</td>\n    </tr>\n    <tr>\n      <td>3</td>\n      <td>20210307</td>\n      <td>AS</td>\n      <td>NaN</td>\n      <td>NaN</td>\n      <td>NaN</td>\n      <td>NaN</td>\n      <td>NaN</td>\n      <td>NaN</td>\n      <td>NaN</td>\n      <td>NaN</td>\n      <td>...</td>\n      <td>NaN</td>\n      <td>NaN</td>\n      <td>NaN</td>\n      <td>NaN</td>\n      <td>NaN</td>\n      <td>NaN</td>\n      <td>NaN</td>\n      <td>NaN</td>\n      <td>NaN</td>\n      <td>NaN</td>\n    </tr>\n    <tr>\n      <td>4</td>\n      <td>20210307</td>\n      <td>AZ</td>\n      <td>826454.0</td>\n      <td>308453.0</td>\n      <td>25775.0</td>\n      <td>244539.0</td>\n      <td>11921.0</td>\n      <td>40707.0</td>\n      <td>NaN</td>\n      <td>NaN</td>\n      <td>...</td>\n      <td>NaN</td>\n      <td>NaN</td>\n      <td>NaN</td>\n      <td>NaN</td>\n      <td>NaN</td>\n      <td>NaN</td>\n      <td>NaN</td>\n      <td>NaN</td>\n      <td>NaN</td>\n      <td>NaN</td>\n    </tr>\n  </tbody>\n</table>\n<p>5 rows × 54 columns</p>\n</div>"
     },
     "metadata": {},
     "execution_count": 2
    }
   ],
   "source": [
    "df1 = pd.read_csv(\"Data/CRDT Data - CRDT.csv\")\n",
    "df1.head(5)"
   ]
  },
  {
   "cell_type": "code",
   "execution_count": 4,
   "metadata": {},
   "outputs": [
    {
     "output_type": "stream",
     "name": "stdout",
     "text": [
      "<class 'pandas.core.frame.DataFrame'>\nRangeIndex: 5320 entries, 0 to 5319\nData columns (total 54 columns):\nDate                            5320 non-null int64\nState                           5320 non-null object\nCases_Total                     5088 non-null float64\nCases_White                     4668 non-null float64\nCases_Black                     4587 non-null float64\nCases_Latinx                    2072 non-null float64\nCases_Asian                     4370 non-null float64\nCases_AIAN                      3263 non-null float64\nCases_NHPI                      2181 non-null float64\nCases_Multiracial               1525 non-null float64\nCases_Other                     4472 non-null float64\nCases_Unknown                   5059 non-null float64\nCases_Ethnicity_Hispanic        4211 non-null float64\nCases_Ethnicity_NonHispanic     4211 non-null float64\nCases_Ethnicity_Unknown         4458 non-null float64\nDeaths_Total                    5041 non-null float64\nDeaths_White                    4501 non-null float64\nDeaths_Black                    4345 non-null float64\nDeaths_Latinx                   2184 non-null float64\nDeaths_Asian                    4099 non-null float64\nDeaths_AIAN                     2851 non-null float64\nDeaths_NHPI                     1716 non-null float64\nDeaths_Multiracial              1312 non-null float64\nDeaths_Other                    4181 non-null float64\nDeaths_Unknown                  5005 non-null float64\nDeaths_Ethnicity_Hispanic       4195 non-null float64\nDeaths_Ethnicity_NonHispanic    4200 non-null float64\nDeaths_Ethnicity_Unknown        4421 non-null float64\nHosp_Total                      1500 non-null float64\nHosp_White                      1500 non-null float64\nHosp_Black                      1497 non-null float64\nHosp_Latinx                     904 non-null float64\nHosp_Asian                      1350 non-null float64\nHosp_AIAN                       1106 non-null float64\nHosp_NHPI                       765 non-null float64\nHosp_Multiracial                608 non-null float64\nHosp_Other                      1409 non-null float64\nHosp_Unknown                    1488 non-null float64\nHosp_Ethnicity_Hispanic         1425 non-null float64\nHosp_Ethnicity_NonHispanic      1425 non-null float64\nHosp_Ethnicity_Unknown          1448 non-null float64\nTests_Total                     563 non-null float64\nTests_White                     563 non-null float64\nTests_Black                     563 non-null float64\nTests_Latinx                    451 non-null float64\nTests_Asian                     563 non-null float64\nTests_AIAN                      459 non-null float64\nTests_NHPI                      355 non-null float64\nTests_Multiracial               251 non-null float64\nTests_Other                     563 non-null float64\nTests_Unknown                   563 non-null float64\nTests_Ethnicity_Hispanic        563 non-null float64\nTests_Ethnicity_NonHispanic     563 non-null float64\nTests_Ethnicity_Unknown         563 non-null float64\ndtypes: float64(52), int64(1), object(1)\nmemory usage: 2.2+ MB\n"
     ]
    }
   ],
   "source": [
    "#explore the features of the dataset\n",
    "df1.info()"
   ]
  },
  {
   "cell_type": "code",
   "execution_count": 5,
   "metadata": {},
   "outputs": [
    {
     "output_type": "execute_result",
     "data": {
      "text/plain": [
       "array([20210307, 20210303, 20210228, 20210224, 20210221, 20210217,\n",
       "       20210214, 20210210, 20210207, 20210203, 20210131, 20210127,\n",
       "       20210124, 20210120, 20210117, 20210113, 20210110, 20210106,\n",
       "       20210103, 20201230, 20201227, 20201223, 20201220, 20201216,\n",
       "       20201213, 20201209, 20201206, 20201202, 20201129, 20201125,\n",
       "       20201122, 20201118, 20201115, 20201111, 20201108, 20201104,\n",
       "       20201101, 20201028, 20201025, 20201021, 20201018, 20201014,\n",
       "       20201011, 20201007, 20201004, 20200930, 20200927, 20200923,\n",
       "       20200920, 20200916, 20200913, 20200909, 20200906, 20200902,\n",
       "       20200830, 20200826, 20200823, 20200819, 20200816, 20200812,\n",
       "       20200809, 20200805, 20200802, 20200729, 20200726, 20200722,\n",
       "       20200719, 20200715, 20200712, 20200708, 20200705, 20200701,\n",
       "       20200628, 20200624, 20200621, 20200617, 20200614, 20200610,\n",
       "       20200607, 20200603, 20200531, 20200527, 20200524, 20200520,\n",
       "       20200517, 20200513, 20200510, 20200506, 20200503, 20200429,\n",
       "       20200426, 20200422, 20200419, 20200415, 20200412])"
      ]
     },
     "metadata": {},
     "execution_count": 5
    }
   ],
   "source": [
    "df1.Date.unique()"
   ]
  },
  {
   "source": [
    "<p>The dates of the <b>COVID Tracking Project</b> are 04/12/2020 through 03/07/2021.</p>"
   ],
   "cell_type": "markdown",
   "metadata": {}
  },
  {
   "cell_type": "code",
   "execution_count": null,
   "metadata": {},
   "outputs": [],
   "source": []
  },
  {
   "cell_type": "code",
   "execution_count": null,
   "metadata": {},
   "outputs": [],
   "source": []
  }
 ]
}